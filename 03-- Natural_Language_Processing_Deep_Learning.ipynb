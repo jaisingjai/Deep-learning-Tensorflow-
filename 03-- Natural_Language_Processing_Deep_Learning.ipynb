{
 "cells": [
  {
   "cell_type": "markdown",
   "id": "7acd81a6",
   "metadata": {},
   "source": [
    "# Natural_Language_Processing_Deep_Learning( Text classification)\n",
    "\n",
    "**Dataset :**  https://www.kaggle.com/competitions/nlp-getting-started\n",
    "\n",
    "**Competition Description**\n",
    "\n",
    "Twitter has become an important communication channel in times of emergency.\n",
    "The ubiquitousness of smartphones enables people to announce an emergency they’re observing in real-time. Because of this, more agencies are interested in programatically monitoring Twitter (i.e. disaster relief organizations and news agencies\n",
    "\n",
    "\n",
    "The author explicitly uses the word “ABLAZE” but means it metaphorically. This is clear to a human right away, especially with the visual aid. But it’s less clear to a machine.\n",
    "\n",
    "In this competition, you’re challenged to build a machine learning model that predicts which Tweets are about real disasters and which one’s aren’t. You’ll have access to a dataset of 10,000 tweets that were hand classified. If this is your first time working on an NLP problem, we've created a quick tutorial to get you up and running.\n",
    "\n",
    "Disclaimer: The dataset for this competition contains text that may be considered profane, vulgar, or offensive.\n",
    "\n",
    "Acknowledgments\n",
    "This dataset was created by the company figure-eight and originally shared on their ‘Data For Everyone’ website here.\n",
    "\n",
    "Tweet source: https://twitter.com/AnyOtherAnnaK/status/629195955506708480\n",
    "\n",
    "* **Model 0**: Naive Bayes (baseline)\n",
    "* **Model 1**: Feed-forward neural network (dense model)\n",
    "* **Model 2**: LSTM model\n",
    "* **Model 3**: GRU model\n",
    "* **Model 4**: Bidirectional-LSTM model\n",
    "* **Model 5**: 1D Convolutional Neural Network\n",
    "* **Model 6**: LSTM and GRU Stack model\n",
    "* **Model 7**: TensorFlow Hub Pretrained Feature Extractor"
   ]
  },
  {
   "cell_type": "code",
   "execution_count": 1,
   "id": "23f799ca",
   "metadata": {},
   "outputs": [],
   "source": [
    "import numpy as np\n",
    "import pandas as pd\n",
    "import seaborn as sns\n",
    "import matplotlib.pyplot as plt\n",
    "import tensorflow as tf"
   ]
  },
  {
   "cell_type": "code",
   "execution_count": 2,
   "id": "aad00096",
   "metadata": {},
   "outputs": [
    {
     "data": {
      "text/html": [
       "<div>\n",
       "<style scoped>\n",
       "    .dataframe tbody tr th:only-of-type {\n",
       "        vertical-align: middle;\n",
       "    }\n",
       "\n",
       "    .dataframe tbody tr th {\n",
       "        vertical-align: top;\n",
       "    }\n",
       "\n",
       "    .dataframe thead th {\n",
       "        text-align: right;\n",
       "    }\n",
       "</style>\n",
       "<table border=\"1\" class=\"dataframe\">\n",
       "  <thead>\n",
       "    <tr style=\"text-align: right;\">\n",
       "      <th></th>\n",
       "      <th>id</th>\n",
       "      <th>keyword</th>\n",
       "      <th>location</th>\n",
       "      <th>text</th>\n",
       "    </tr>\n",
       "  </thead>\n",
       "  <tbody>\n",
       "    <tr>\n",
       "      <th>0</th>\n",
       "      <td>0</td>\n",
       "      <td>NaN</td>\n",
       "      <td>NaN</td>\n",
       "      <td>Just happened a terrible car crash</td>\n",
       "    </tr>\n",
       "    <tr>\n",
       "      <th>1</th>\n",
       "      <td>2</td>\n",
       "      <td>NaN</td>\n",
       "      <td>NaN</td>\n",
       "      <td>Heard about #earthquake is different cities, s...</td>\n",
       "    </tr>\n",
       "    <tr>\n",
       "      <th>2</th>\n",
       "      <td>3</td>\n",
       "      <td>NaN</td>\n",
       "      <td>NaN</td>\n",
       "      <td>there is a forest fire at spot pond, geese are...</td>\n",
       "    </tr>\n",
       "    <tr>\n",
       "      <th>3</th>\n",
       "      <td>9</td>\n",
       "      <td>NaN</td>\n",
       "      <td>NaN</td>\n",
       "      <td>Apocalypse lighting. #Spokane #wildfires</td>\n",
       "    </tr>\n",
       "    <tr>\n",
       "      <th>4</th>\n",
       "      <td>11</td>\n",
       "      <td>NaN</td>\n",
       "      <td>NaN</td>\n",
       "      <td>Typhoon Soudelor kills 28 in China and Taiwan</td>\n",
       "    </tr>\n",
       "  </tbody>\n",
       "</table>\n",
       "</div>"
      ],
      "text/plain": [
       "   id keyword location                                               text\n",
       "0   0     NaN      NaN                 Just happened a terrible car crash\n",
       "1   2     NaN      NaN  Heard about #earthquake is different cities, s...\n",
       "2   3     NaN      NaN  there is a forest fire at spot pond, geese are...\n",
       "3   9     NaN      NaN           Apocalypse lighting. #Spokane #wildfires\n",
       "4  11     NaN      NaN      Typhoon Soudelor kills 28 in China and Taiwan"
      ]
     },
     "execution_count": 2,
     "metadata": {},
     "output_type": "execute_result"
    }
   ],
   "source": [
    "# Making data Frame from test Data.\n",
    "test_data = pd.read_csv('test.csv',index_col=False)\n",
    "test_data.head()"
   ]
  },
  {
   "cell_type": "code",
   "execution_count": 3,
   "id": "f3a6b636",
   "metadata": {},
   "outputs": [
    {
     "data": {
      "text/html": [
       "<div>\n",
       "<style scoped>\n",
       "    .dataframe tbody tr th:only-of-type {\n",
       "        vertical-align: middle;\n",
       "    }\n",
       "\n",
       "    .dataframe tbody tr th {\n",
       "        vertical-align: top;\n",
       "    }\n",
       "\n",
       "    .dataframe thead th {\n",
       "        text-align: right;\n",
       "    }\n",
       "</style>\n",
       "<table border=\"1\" class=\"dataframe\">\n",
       "  <thead>\n",
       "    <tr style=\"text-align: right;\">\n",
       "      <th></th>\n",
       "      <th>id</th>\n",
       "      <th>keyword</th>\n",
       "      <th>location</th>\n",
       "      <th>text</th>\n",
       "      <th>target</th>\n",
       "    </tr>\n",
       "  </thead>\n",
       "  <tbody>\n",
       "    <tr>\n",
       "      <th>0</th>\n",
       "      <td>1</td>\n",
       "      <td>NaN</td>\n",
       "      <td>NaN</td>\n",
       "      <td>Our Deeds are the Reason of this #earthquake M...</td>\n",
       "      <td>1</td>\n",
       "    </tr>\n",
       "    <tr>\n",
       "      <th>1</th>\n",
       "      <td>4</td>\n",
       "      <td>NaN</td>\n",
       "      <td>NaN</td>\n",
       "      <td>Forest fire near La Ronge Sask. Canada</td>\n",
       "      <td>1</td>\n",
       "    </tr>\n",
       "    <tr>\n",
       "      <th>2</th>\n",
       "      <td>5</td>\n",
       "      <td>NaN</td>\n",
       "      <td>NaN</td>\n",
       "      <td>All residents asked to 'shelter in place' are ...</td>\n",
       "      <td>1</td>\n",
       "    </tr>\n",
       "    <tr>\n",
       "      <th>3</th>\n",
       "      <td>6</td>\n",
       "      <td>NaN</td>\n",
       "      <td>NaN</td>\n",
       "      <td>13,000 people receive #wildfires evacuation or...</td>\n",
       "      <td>1</td>\n",
       "    </tr>\n",
       "    <tr>\n",
       "      <th>4</th>\n",
       "      <td>7</td>\n",
       "      <td>NaN</td>\n",
       "      <td>NaN</td>\n",
       "      <td>Just got sent this photo from Ruby #Alaska as ...</td>\n",
       "      <td>1</td>\n",
       "    </tr>\n",
       "  </tbody>\n",
       "</table>\n",
       "</div>"
      ],
      "text/plain": [
       "   id keyword location                                               text  \\\n",
       "0   1     NaN      NaN  Our Deeds are the Reason of this #earthquake M...   \n",
       "1   4     NaN      NaN             Forest fire near La Ronge Sask. Canada   \n",
       "2   5     NaN      NaN  All residents asked to 'shelter in place' are ...   \n",
       "3   6     NaN      NaN  13,000 people receive #wildfires evacuation or...   \n",
       "4   7     NaN      NaN  Just got sent this photo from Ruby #Alaska as ...   \n",
       "\n",
       "   target  \n",
       "0       1  \n",
       "1       1  \n",
       "2       1  \n",
       "3       1  \n",
       "4       1  "
      ]
     },
     "execution_count": 3,
     "metadata": {},
     "output_type": "execute_result"
    }
   ],
   "source": [
    "# Making Data Frame from Train Data.\n",
    "train_data = pd.read_csv('train.csv',index_col=False)\n",
    "train_data.head()"
   ]
  },
  {
   "cell_type": "code",
   "execution_count": 4,
   "id": "c998c049",
   "metadata": {},
   "outputs": [
    {
     "name": "stdout",
     "output_type": "stream",
     "text": [
      "Number of Train Data: 7613\n",
      "Number of Test Data: 3263\n",
      "Total Number of Dataset: 10876\n"
     ]
    }
   ],
   "source": [
    "# Checking Total Number of sample\n",
    "print(f'Number of Train Data: {len(train_data)}')\n",
    "print(f'Number of Test Data: {len(test_data)}')\n",
    "print(f'Total Number of Dataset: {len(train_data)+len(test_data)}')"
   ]
  },
  {
   "cell_type": "code",
   "execution_count": 5,
   "id": "23e92975",
   "metadata": {},
   "outputs": [
    {
     "data": {
      "text/html": [
       "<div>\n",
       "<style scoped>\n",
       "    .dataframe tbody tr th:only-of-type {\n",
       "        vertical-align: middle;\n",
       "    }\n",
       "\n",
       "    .dataframe tbody tr th {\n",
       "        vertical-align: top;\n",
       "    }\n",
       "\n",
       "    .dataframe thead th {\n",
       "        text-align: right;\n",
       "    }\n",
       "</style>\n",
       "<table border=\"1\" class=\"dataframe\">\n",
       "  <thead>\n",
       "    <tr style=\"text-align: right;\">\n",
       "      <th></th>\n",
       "      <th>id</th>\n",
       "      <th>keyword</th>\n",
       "      <th>location</th>\n",
       "      <th>text</th>\n",
       "      <th>target</th>\n",
       "    </tr>\n",
       "  </thead>\n",
       "  <tbody>\n",
       "    <tr>\n",
       "      <th>2644</th>\n",
       "      <td>3796</td>\n",
       "      <td>destruction</td>\n",
       "      <td>NaN</td>\n",
       "      <td>So you have a new weapon that can cause un-ima...</td>\n",
       "      <td>1</td>\n",
       "    </tr>\n",
       "    <tr>\n",
       "      <th>2227</th>\n",
       "      <td>3185</td>\n",
       "      <td>deluge</td>\n",
       "      <td>NaN</td>\n",
       "      <td>The f$&amp;amp;@ing things I do for #GISHWHES Just...</td>\n",
       "      <td>0</td>\n",
       "    </tr>\n",
       "    <tr>\n",
       "      <th>5448</th>\n",
       "      <td>7769</td>\n",
       "      <td>police</td>\n",
       "      <td>UK</td>\n",
       "      <td>DT @georgegalloway: RT @Galloway4Mayor: ÛÏThe...</td>\n",
       "      <td>1</td>\n",
       "    </tr>\n",
       "    <tr>\n",
       "      <th>132</th>\n",
       "      <td>191</td>\n",
       "      <td>aftershock</td>\n",
       "      <td>NaN</td>\n",
       "      <td>Aftershock back to school kick off was great. ...</td>\n",
       "      <td>0</td>\n",
       "    </tr>\n",
       "    <tr>\n",
       "      <th>6845</th>\n",
       "      <td>9810</td>\n",
       "      <td>trauma</td>\n",
       "      <td>Montgomery County, MD</td>\n",
       "      <td>in response to trauma Children of Addicts deve...</td>\n",
       "      <td>0</td>\n",
       "    </tr>\n",
       "    <tr>\n",
       "      <th>...</th>\n",
       "      <td>...</td>\n",
       "      <td>...</td>\n",
       "      <td>...</td>\n",
       "      <td>...</td>\n",
       "      <td>...</td>\n",
       "    </tr>\n",
       "    <tr>\n",
       "      <th>5226</th>\n",
       "      <td>7470</td>\n",
       "      <td>obliteration</td>\n",
       "      <td>Merica!</td>\n",
       "      <td>@Eganator2000 There aren't many Obliteration s...</td>\n",
       "      <td>0</td>\n",
       "    </tr>\n",
       "    <tr>\n",
       "      <th>5390</th>\n",
       "      <td>7691</td>\n",
       "      <td>panic</td>\n",
       "      <td>NaN</td>\n",
       "      <td>just had a panic attack bc I don't have enough...</td>\n",
       "      <td>0</td>\n",
       "    </tr>\n",
       "    <tr>\n",
       "      <th>860</th>\n",
       "      <td>1242</td>\n",
       "      <td>blood</td>\n",
       "      <td>NaN</td>\n",
       "      <td>Omron HEM-712C Automatic Blood Pressure Monito...</td>\n",
       "      <td>0</td>\n",
       "    </tr>\n",
       "    <tr>\n",
       "      <th>7603</th>\n",
       "      <td>10862</td>\n",
       "      <td>NaN</td>\n",
       "      <td>NaN</td>\n",
       "      <td>Officials say a quarantine is in place at an A...</td>\n",
       "      <td>1</td>\n",
       "    </tr>\n",
       "    <tr>\n",
       "      <th>7270</th>\n",
       "      <td>10409</td>\n",
       "      <td>whirlwind</td>\n",
       "      <td>Stamford &amp; Cork (&amp; Shropshire)</td>\n",
       "      <td>I moved to England five years ago today. What ...</td>\n",
       "      <td>1</td>\n",
       "    </tr>\n",
       "  </tbody>\n",
       "</table>\n",
       "<p>7613 rows × 5 columns</p>\n",
       "</div>"
      ],
      "text/plain": [
       "         id       keyword                        location  \\\n",
       "2644   3796   destruction                             NaN   \n",
       "2227   3185        deluge                             NaN   \n",
       "5448   7769        police                              UK   \n",
       "132     191    aftershock                             NaN   \n",
       "6845   9810        trauma           Montgomery County, MD   \n",
       "...     ...           ...                             ...   \n",
       "5226   7470  obliteration                         Merica!   \n",
       "5390   7691         panic                             NaN   \n",
       "860    1242         blood                             NaN   \n",
       "7603  10862           NaN                             NaN   \n",
       "7270  10409     whirlwind  Stamford & Cork (& Shropshire)   \n",
       "\n",
       "                                                   text  target  \n",
       "2644  So you have a new weapon that can cause un-ima...       1  \n",
       "2227  The f$&amp;@ing things I do for #GISHWHES Just...       0  \n",
       "5448  DT @georgegalloway: RT @Galloway4Mayor: ÛÏThe...       1  \n",
       "132   Aftershock back to school kick off was great. ...       0  \n",
       "6845  in response to trauma Children of Addicts deve...       0  \n",
       "...                                                 ...     ...  \n",
       "5226  @Eganator2000 There aren't many Obliteration s...       0  \n",
       "5390  just had a panic attack bc I don't have enough...       0  \n",
       "860   Omron HEM-712C Automatic Blood Pressure Monito...       0  \n",
       "7603  Officials say a quarantine is in place at an A...       1  \n",
       "7270  I moved to England five years ago today. What ...       1  \n",
       "\n",
       "[7613 rows x 5 columns]"
      ]
     },
     "execution_count": 5,
     "metadata": {},
     "output_type": "execute_result"
    }
   ],
   "source": [
    "# Suffle training data\n",
    "train_data_shuffle = train_data.sample(frac=1,random_state=42)\n",
    "train_data_shuffle\n"
   ]
  },
  {
   "cell_type": "code",
   "execution_count": 6,
   "id": "212bfbed",
   "metadata": {},
   "outputs": [
    {
     "data": {
      "text/plain": [
       "0    4342\n",
       "1    3271\n",
       "Name: target, dtype: int64"
      ]
     },
     "execution_count": 6,
     "metadata": {},
     "output_type": "execute_result"
    }
   ],
   "source": [
    "# How many examples of each class?\n",
    "train_data_shuffle['target'].value_counts()"
   ]
  },
  {
   "cell_type": "code",
   "execution_count": 7,
   "id": "64239e37",
   "metadata": {},
   "outputs": [
    {
     "data": {
      "image/png": "[encoded data removed]",
      "text/plain": [
       "<Figure size 640x480 with 1 Axes>"
      ]
     },
     "metadata": {},
     "output_type": "display_data"
    }
   ],
   "source": [
    "# Graph of counts of 1 and 0.\n",
    "sns.countplot(data=train_data_shuffle,x='target',palette='Set2');"
   ]
  },
  {
   "cell_type": "code",
   "execution_count": null,
   "id": "a09ca88e",
   "metadata": {},
   "outputs": [],
   "source": []
  },
  {
   "cell_type": "code",
   "execution_count": 8,
   "id": "2a7f0a27",
   "metadata": {},
   "outputs": [
    {
     "name": "stdout",
     "output_type": "stream",
     "text": [
      "2210 : \n",
      "\n",
      "Target : 0   (Not a real Disaster)\n",
      "\n",
      " Text : China is only delaying the deluge: If the fundamentals of an economy do not support the valuations of a stock ... http://t.co/fwIkyUrC18\n",
      "\n",
      "-----------------\n",
      "\n",
      "2476 : \n",
      "\n",
      "Target : 1   (Real Disaster)\n",
      "\n",
      " Text : Helping Hand: In Mumbai 2 TTEs take charge of helpline to calm anxious relatives - The Indian Exp... http://t.co/B9KUylcxg4 MumbaiTimes\n",
      "\n",
      "-----------------\n",
      "\n",
      "4965 : \n",
      "\n",
      "Target : 0   (Not a real Disaster)\n",
      "\n",
      " Text : http://t.co/HFqlwo1kMy E-Mini SP 500: Earnings letdown equals market meltdown! http://t.co/LEi9dWVllq #Amazon\n",
      "\n",
      "-----------------\n",
      "\n",
      "807 : \n",
      "\n",
      "Target : 0   (Not a real Disaster)\n",
      "\n",
      " Text : @anellatulip there is a theory that makes way too much sense that says that the dwarves may be the actual origin of the blight\n",
      "\n",
      "-----------------\n",
      "\n",
      "2045 : \n",
      "\n",
      "Target : 0   (Not a real Disaster)\n",
      "\n",
      " Text : @RemainOnTop #FETTILOOTCH IS #SLANGLUCCI OPPRESSIONS GREATEST DANGER COMING SOON THE ALBUM \n",
      "https://t.co/moLL5vd8yD\n",
      "\n",
      "-----------------\n",
      "\n"
     ]
    }
   ],
   "source": [
    "# Cheking Random Data from Train Dataset\n",
    "import random\n",
    "random_index = random.randint(0,len(train_data)-5)\n",
    "for row in train_data_shuffle[['text','target']][random_index:random_index+5].itertuples():\n",
    "    no,text,target = row\n",
    "    print(no,': \\n')\n",
    "    print(f'Target : {target} ' ,' (Not a real Disaster)' if target < 1 else ' (Real Disaster)')\n",
    "    print(f'\\n Text : {text}\\n')\n",
    "    print('-----------------\\n')\n"
   ]
  },
  {
   "cell_type": "code",
   "execution_count": 9,
   "id": "d8f834d5",
   "metadata": {},
   "outputs": [],
   "source": [
    "from sklearn.model_selection import train_test_split\n",
    "\n",
    "# Use train_test_split to split training data into training and validation sets\n",
    "train_sentences_,val_sentences,train_labels,val_labels = train_test_split(train_data_shuffle['text'],\n",
    "                                                                         train_data_shuffle['target'].to_numpy(),\n",
    "                                                                         test_size=0.1, # Making 10% test train split\n",
    "                                                                         random_state=42 # Random state\n",
    "                                                                        )"
   ]
  },
  {
   "cell_type": "code",
   "execution_count": 10,
   "id": "25b5c7fc",
   "metadata": {},
   "outputs": [
    {
     "data": {
      "text/plain": [
       "(6851, 6851, 762, 762)"
      ]
     },
     "execution_count": 10,
     "metadata": {},
     "output_type": "execute_result"
    }
   ],
   "source": [
    "# Train Test Split Numbers\n",
    "len(train_sentences_),len(train_labels),len(val_sentences),len(val_labels)"
   ]
  },
  {
   "cell_type": "code",
   "execution_count": 11,
   "id": "39263f15",
   "metadata": {},
   "outputs": [
    {
     "data": {
      "text/plain": [
       "5921    @mogacola @zamtriossu i screamed after hitting...\n",
       "3904              Imagine getting flattened by Kurt Zouma\n",
       "2804    @Gurmeetramrahim #MSGDoing111WelfareWorks Gree...\n",
       "3718    @shakjn @C7 @Magnums im shaking in fear he's g...\n",
       "1667    Somehow find you and I collide http://t.co/Ee8...\n",
       "Name: text, dtype: object"
      ]
     },
     "execution_count": 11,
     "metadata": {},
     "output_type": "execute_result"
    }
   ],
   "source": [
    "# View the first 10 training sentences and their labels\n",
    "train_sentences_.iloc[:5]"
   ]
  },
  {
   "cell_type": "code",
   "execution_count": 12,
   "id": "16fd871b",
   "metadata": {},
   "outputs": [
    {
     "data": {
      "text/plain": [
       "4955    DFR EP016 Monthly Meltdown - On Dnbheaven 2015...\n",
       "584     FedEx no longer to transport bioterror germs i...\n",
       "7411    Gunmen kill four in El Salvador bus attack: Su...\n",
       "5950    @camilacabello97 Internally and externally scr...\n",
       "5541    Radiation emergency #preparedness starts with ...\n",
       "Name: text, dtype: object"
      ]
     },
     "execution_count": 12,
     "metadata": {},
     "output_type": "execute_result"
    }
   ],
   "source": [
    "val_sentences.iloc[:5]"
   ]
  },
  {
   "cell_type": "code",
   "execution_count": 13,
   "id": "6d260fe4",
   "metadata": {},
   "outputs": [
    {
     "data": {
      "text/plain": [
       "(array([0, 0, 1, 0, 0], dtype=int64), array([0, 0, 1, 1, 1], dtype=int64))"
      ]
     },
     "execution_count": 13,
     "metadata": {},
     "output_type": "execute_result"
    }
   ],
   "source": [
    "train_labels[:5],val_labels[:5]"
   ]
  },
  {
   "cell_type": "code",
   "execution_count": 14,
   "id": "6ae3163c",
   "metadata": {},
   "outputs": [
    {
     "data": {
      "text/plain": [
       "14.903585971364771"
      ]
     },
     "execution_count": 14,
     "metadata": {},
     "output_type": "execute_result"
    }
   ],
   "source": [
    "# How long is each sentence on average?\n",
    "train_sentences = train_data_shuffle['text'].to_numpy()\n",
    "sentences_len =[len(sentences.split()) for sentences in train_sentences]\n",
    "avg_sentences_len = np.mean(sentences_len)\n",
    "avg_sentences_len"
   ]
  },
  {
   "cell_type": "code",
   "execution_count": 15,
   "id": "78b33c00",
   "metadata": {},
   "outputs": [
    {
     "data": {
      "text/plain": [
       "15"
      ]
     },
     "execution_count": 15,
     "metadata": {},
     "output_type": "execute_result"
    }
   ],
   "source": [
    "# Find average number of tokens (words) in training Tweets\n",
    "round(sum([len(i.split()) for i in train_sentences])/len(train_sentences))"
   ]
  },
  {
   "cell_type": "code",
   "execution_count": 16,
   "id": "5bddee27",
   "metadata": {},
   "outputs": [
    {
     "data": {
      "image/png": "[encoded data removed]",
      "text/plain": [
       "<Figure size 640x480 with 1 Axes>"
      ]
     },
     "metadata": {},
     "output_type": "display_data"
    }
   ],
   "source": [
    "# What's the distribution look like?\n",
    "sns.histplot(x=sentences_len,bins=10);"
   ]
  },
  {
   "cell_type": "code",
   "execution_count": 17,
   "id": "9807d3dc",
   "metadata": {},
   "outputs": [
    {
     "data": {
      "text/plain": [
       "31"
      ]
     },
     "execution_count": 17,
     "metadata": {},
     "output_type": "execute_result"
    }
   ],
   "source": [
    "# Maximum lenth of sentence \n",
    "max(sentences_len)"
   ]
  },
  {
   "cell_type": "code",
   "execution_count": 18,
   "id": "de20c26a",
   "metadata": {},
   "outputs": [
    {
     "data": {
      "text/plain": [
       "26.0"
      ]
     },
     "execution_count": 18,
     "metadata": {},
     "output_type": "execute_result"
    }
   ],
   "source": [
    "# How long of a sentence covers 98% of the lengths?\n",
    "np.percentile(sentences_len,98)"
   ]
  },
  {
   "cell_type": "markdown",
   "id": "b8a3ee05",
   "metadata": {},
   "source": [
    "### Text vectorization (tokenization)"
   ]
  },
  {
   "cell_type": "code",
   "execution_count": 19,
   "id": "bfad9c2a",
   "metadata": {},
   "outputs": [],
   "source": [
    "# text Vectorization\n",
    "max_vocab_length =10000\n",
    "max_length=26\n",
    "\n",
    "\n",
    "text_vectorization = tf.keras.layers.TextVectorization(max_tokens=max_vocab_length,# how many words in the vocabulary \n",
    "                                                       standardize='lower_and_strip_punctuation', # how to process text\n",
    "                                                       split='whitespace', # how to split tokens\n",
    "                                                       output_mode='int', # how to map tokens to numbers\n",
    "                                                       output_sequence_length=max_length # how long should the output sequence of tokens be?\n",
    "                                                       )"
   ]
  },
  {
   "cell_type": "code",
   "execution_count": 20,
   "id": "0bc948bf",
   "metadata": {},
   "outputs": [],
   "source": [
    "# Fit the train sentences to the text vectorization\n",
    "text_vectorization.adapt(train_sentences)"
   ]
  },
  {
   "cell_type": "code",
   "execution_count": 21,
   "id": "3503b608",
   "metadata": {},
   "outputs": [
    {
     "data": {
      "text/plain": [
       "<tf.Tensor: shape=(1, 26), dtype=int64, numpy=\n",
       "array([[278,   3, 216,   4,  13, 712,   0,   0,   0,   0,   0,   0,   0,\n",
       "          0,   0,   0,   0,   0,   0,   0,   0,   0,   0,   0,   0,   0]],\n",
       "      dtype=int64)>"
      ]
     },
     "execution_count": 21,
     "metadata": {},
     "output_type": "execute_result"
    }
   ],
   "source": [
    "# Create sample and tokenize it\n",
    "sample_sentance = \"there's a flood in my street\"\n",
    "text_vectorization([sample_sentance])"
   ]
  },
  {
   "cell_type": "code",
   "execution_count": 22,
   "id": "06a45c65",
   "metadata": {},
   "outputs": [
    {
     "name": "stdout",
     "output_type": "stream",
     "text": [
      "Random Sentence:\n",
      "\n",
      " ? High Skies - Burning Buildings ? http://t.co/uVq41i3Kx2 #nowplaying\n",
      "\n",
      " Vectorized Version:\n",
      "\n"
     ]
    },
    {
     "data": {
      "text/plain": [
       "<tf.Tensor: shape=(26,), dtype=int64, numpy=\n",
       "array([ 305, 3687,   84,   98,    1,  665,    0,    0,    0,    0,    0,\n",
       "          0,    0,    0,    0,    0,    0,    0,    0,    0,    0,    0,\n",
       "          0,    0,    0,    0], dtype=int64)>"
      ]
     },
     "execution_count": 22,
     "metadata": {},
     "output_type": "execute_result"
    }
   ],
   "source": [
    "# Choose a random sentence from the training dataset and tokenize it\n",
    "sentance = random.choice(train_sentences)\n",
    "print(f\"Random Sentence:\\n\\n {sentance}\\n\\n Vectorized Version:\\n\")\n",
    "text_vectorization(sentance)"
   ]
  },
  {
   "cell_type": "code",
   "execution_count": 23,
   "id": "633de7a4",
   "metadata": {},
   "outputs": [
    {
     "name": "stdout",
     "output_type": "stream",
     "text": [
      "Total Numbers of Vocabulary : 10000\n",
      "Top 5 Most Common Vocabulary : ['', '[UNK]', 'the', 'a', 'in']\n",
      "Bottom 5 Most Common Vacabulary : ['ratio', 'ratingscategories', 'ratings', 'ratingbut', 'rascal']\n"
     ]
    }
   ],
   "source": [
    "# Get unique Words in the vocabulary\n",
    "words_in_vac= text_vectorization.get_vocabulary()\n",
    "top_5_words= words_in_vac[:5]\n",
    "bottom_5_words= words_in_vac[-5:]\n",
    "print(f\"Total Numbers of Vocabulary : {len(words_in_vac)}\")\n",
    "print(f\"Top 5 Most Common Vocabulary : {top_5_words}\")\n",
    "print(f\"Bottom 5 Most Common Vacabulary : {bottom_5_words}\")"
   ]
  },
  {
   "cell_type": "code",
   "execution_count": 24,
   "id": "bf4361be",
   "metadata": {},
   "outputs": [
    {
     "data": {
      "text/plain": [
       "{'name': 'text_vectorization',\n",
       " 'trainable': True,\n",
       " 'dtype': 'string',\n",
       " 'batch_input_shape': (None,),\n",
       " 'max_tokens': 10000,\n",
       " 'standardize': 'lower_and_strip_punctuation',\n",
       " 'split': 'whitespace',\n",
       " 'ngrams': None,\n",
       " 'output_mode': 'int',\n",
       " 'output_sequence_length': 26,\n",
       " 'pad_to_max_tokens': False,\n",
       " 'sparse': False,\n",
       " 'ragged': False,\n",
       " 'vocabulary': None,\n",
       " 'idf_weights': None,\n",
       " 'encoding': 'utf-8'}"
      ]
     },
     "execution_count": 24,
     "metadata": {},
     "output_type": "execute_result"
    }
   ],
   "source": [
    "# Get the config of our text vectorizer\n",
    "text_vectorization.get_config()"
   ]
  },
  {
   "cell_type": "markdown",
   "id": "7544bbf1",
   "metadata": {},
   "source": [
    "### Creating an Embedding using an Embedding Layer\n"
   ]
  },
  {
   "cell_type": "code",
   "execution_count": 25,
   "id": "bcde8036",
   "metadata": {},
   "outputs": [
    {
     "data": {
      "text/plain": [
       "<keras.layers.core.embedding.Embedding at 0x1f6a4f83790>"
      ]
     },
     "execution_count": 25,
     "metadata": {},
     "output_type": "execute_result"
    }
   ],
   "source": [
    "tf.random.set_seed(42)\n",
    "embedding =tf.keras.layers.Embedding(input_dim=max_vocab_length,# set input shape\n",
    "                                     output_dim=128,# set size of embedding vector\n",
    "                                     embeddings_initializer='uniform',# default, intialize randomly\n",
    "                                     input_length=max_length, # how long is each input\n",
    "                                     name=\"embedding_1\"\n",
    ")\n",
    "embedding"
   ]
  },
  {
   "cell_type": "code",
   "execution_count": 26,
   "id": "c0d991d1",
   "metadata": {},
   "outputs": [
    {
     "name": "stdout",
     "output_type": "stream",
     "text": [
      "Text: \n",
      "\n",
      "Jewish leaders prayed at the hospital where a Palestinian family is being treated after arson http://t.co/Wf8iTK2KVx via @HuffPostRelig        \n",
      "\n",
      "Embedded Version:\n",
      "\n",
      "tf.Tensor(\n",
      "[[[ 0.03985434 -0.02218541  0.02191751 ... -0.03057658  0.03581448\n",
      "    0.02640966]\n",
      "  [ 0.02642084 -0.01849477 -0.0176452  ...  0.01908604  0.03838671\n",
      "    0.0460853 ]\n",
      "  [ 0.01485456  0.02778094  0.02186975 ...  0.04113085  0.00808791\n",
      "    0.02036685]\n",
      "  ...\n",
      "  [-0.04913935 -0.04082878  0.00785132 ... -0.0384876  -0.01451185\n",
      "   -0.02694376]\n",
      "  [-0.04913935 -0.04082878  0.00785132 ... -0.0384876  -0.01451185\n",
      "   -0.02694376]\n",
      "  [-0.04913935 -0.04082878  0.00785132 ... -0.0384876  -0.01451185\n",
      "   -0.02694376]]], shape=(1, 26, 128), dtype=float32)\n",
      "\n",
      "\n",
      "Tex Vectorization : [[2620 3145    1   17    2 1521  206    3 1386  295    9  123 4716   38\n",
      "   586    1   51    1    0    0    0    0    0    0    0    0]]\n"
     ]
    }
   ],
   "source": [
    "# Get Random setneces from Train sentance\n",
    "import random\n",
    "random_sentence = random.choice(train_sentences)\n",
    "print(f\"Text: \\n\\n{random_sentence}\\\n",
    "        \\n\\nEmbedded Version:\\n\")\n",
    "\n",
    "# Embed the random sentence (turn it into numerical representation)\n",
    "embedded_sentence = embedding(text_vectorization([random_sentence]))\n",
    "print(embedded_sentence)\n",
    "\n",
    "# Text Vectorization \n",
    "print(f\"\\n\\nTex Vectorization : {text_vectorization([random_sentence])}\")"
   ]
  },
  {
   "cell_type": "code",
   "execution_count": 27,
   "id": "762c6876",
   "metadata": {},
   "outputs": [
    {
     "data": {
      "text/plain": [
       "<tf.Tensor: shape=(128,), dtype=float32, numpy=\n",
       "array([ 0.03985434, -0.02218541,  0.02191751,  0.02881888,  0.00108942,\n",
       "        0.01980659, -0.04248867, -0.04949386,  0.03404692, -0.0468381 ,\n",
       "       -0.04388836,  0.01837224, -0.00194151, -0.00749554, -0.00630511,\n",
       "        0.0497728 ,  0.04312208,  0.03795207, -0.01041889,  0.04167091,\n",
       "       -0.00161629,  0.00203558,  0.00017532,  0.01224036,  0.01264924,\n",
       "        0.01158537,  0.01021212,  0.00386389, -0.01847546, -0.01454198,\n",
       "        0.01220194, -0.03073032, -0.04561539, -0.04009677, -0.04559441,\n",
       "        0.02730199, -0.00841254,  0.02705305,  0.02085619,  0.04069625,\n",
       "       -0.02254361,  0.04797274,  0.00587829, -0.03341539,  0.0324419 ,\n",
       "        0.00339539,  0.00916915,  0.04205198, -0.04833841,  0.04997555,\n",
       "        0.03375756,  0.04716107,  0.04425705,  0.00928613,  0.03810989,\n",
       "       -0.04115389, -0.00792243,  0.03083758,  0.03764094, -0.02589147,\n",
       "        0.00145332, -0.04164935, -0.04403071,  0.00873034,  0.04793717,\n",
       "       -0.0298471 , -0.03417099,  0.0277274 ,  0.04333738,  0.01708758,\n",
       "       -0.01037019,  0.03736986,  0.04485236, -0.04098899,  0.04312542,\n",
       "       -0.00055702,  0.0401031 , -0.03520809, -0.00213541,  0.04536695,\n",
       "       -0.0020063 ,  0.04255507,  0.02092807, -0.01157994, -0.03925853,\n",
       "        0.03108659, -0.03079128, -0.01188461, -0.04737079, -0.01648175,\n",
       "        0.03524661, -0.0108759 , -0.02127911, -0.04286931, -0.02423875,\n",
       "        0.0369275 , -0.03441591, -0.01791888,  0.02872156,  0.00718436,\n",
       "        0.02154967, -0.00948182, -0.03716858, -0.00505971,  0.02899877,\n",
       "       -0.01571461, -0.04648238, -0.02680891, -0.03823694,  0.02612459,\n",
       "        0.01304353, -0.02673835, -0.04596144,  0.01955265,  0.0190436 ,\n",
       "        0.02967132, -0.04260615,  0.0045265 ,  0.02494574, -0.01043562,\n",
       "        0.04265888,  0.049791  ,  0.03247941,  0.01818849,  0.01119943,\n",
       "       -0.03057658,  0.03581448,  0.02640966], dtype=float32)>"
      ]
     },
     "execution_count": 27,
     "metadata": {},
     "output_type": "execute_result"
    }
   ],
   "source": [
    "# Check out a single token's embedding\n",
    "embedded_sentence[0][0]"
   ]
  },
  {
   "cell_type": "markdown",
   "id": "bad5924a",
   "metadata": {},
   "source": [
    "## Modelling a text dataset\n",
    "\n",
    "More specifically, we'll be building the following:\n",
    "* **Model 0**: Naive Bayes (baseline)\n",
    "* **Model 1**: Feed-forward neural network (dense model)\n",
    "* **Model 2**: LSTM model\n",
    "* **Model 3**: GRU model\n",
    "* **Model 4**: Bidirectional-LSTM model\n",
    "* **Model 5**: 1D Convolutional Neural Network\n",
    "* **Model 6**: LSTM and GRU Stack model\n",
    "* **Model 7**: TensorFlow Hub Pretrained Feature Extractor\n",
    "\n",
    "Model 0 is the simplest to acquire a baseline which we'll expect each other of the other deeper models to beat.\n",
    "\n",
    "Each experiment will go through the following steps:\n",
    "* Construct the model\n",
    "* Train the model\n",
    "* Make predictions with the model\n",
    "* Track prediction evaluation metrics for later comparison\n"
   ]
  },
  {
   "cell_type": "markdown",
   "id": "70bbe96d",
   "metadata": {},
   "source": [
    "### Model 0: Getting a baseline"
   ]
  },
  {
   "cell_type": "code",
   "execution_count": 28,
   "id": "4fc2d629",
   "metadata": {},
   "outputs": [
    {
     "data": {
      "text/html": [
       "<style>#sk-container-id-1 {color: black;background-color: white;}#sk-container-id-1 pre{padding: 0;}#sk-container-id-1 div.sk-toggleable {background-color: white;}#sk-container-id-1 label.sk-toggleable__label {cursor: pointer;display: block;width: 100%;margin-bottom: 0;padding: 0.3em;box-sizing: border-box;text-align: center;}#sk-container-id-1 label.sk-toggleable__label-arrow:before {content: \"▸\";float: left;margin-right: 0.25em;color: #696969;}#sk-container-id-1 label.sk-toggleable__label-arrow:hover:before {color: black;}#sk-container-id-1 div.sk-estimator:hover label.sk-toggleable__label-arrow:before {color: black;}#sk-container-id-1 div.sk-toggleable__content {max-height: 0;max-width: 0;overflow: hidden;text-align: left;background-color: #f0f8ff;}#sk-container-id-1 div.sk-toggleable__content pre {margin: 0.2em;color: black;border-radius: 0.25em;background-color: #f0f8ff;}#sk-container-id-1 input.sk-toggleable__control:checked~div.sk-toggleable__content {max-height: 200px;max-width: 100%;overflow: auto;}#sk-container-id-1 input.sk-toggleable__control:checked~label.sk-toggleable__label-arrow:before {content: \"▾\";}#sk-container-id-1 div.sk-estimator input.sk-toggleable__control:checked~label.sk-toggleable__label {background-color: #d4ebff;}#sk-container-id-1 div.sk-label input.sk-toggleable__control:checked~label.sk-toggleable__label {background-color: #d4ebff;}#sk-container-id-1 input.sk-hidden--visually {border: 0;clip: rect(1px 1px 1px 1px);clip: rect(1px, 1px, 1px, 1px);height: 1px;margin: -1px;overflow: hidden;padding: 0;position: absolute;width: 1px;}#sk-container-id-1 div.sk-estimator {font-family: monospace;background-color: #f0f8ff;border: 1px dotted black;border-radius: 0.25em;box-sizing: border-box;margin-bottom: 0.5em;}#sk-container-id-1 div.sk-estimator:hover {background-color: #d4ebff;}#sk-container-id-1 div.sk-parallel-item::after {content: \"\";width: 100%;border-bottom: 1px solid gray;flex-grow: 1;}#sk-container-id-1 div.sk-label:hover label.sk-toggleable__label {background-color: #d4ebff;}#sk-container-id-1 div.sk-serial::before {content: \"\";position: absolute;border-left: 1px solid gray;box-sizing: border-box;top: 0;bottom: 0;left: 50%;z-index: 0;}#sk-container-id-1 div.sk-serial {display: flex;flex-direction: column;align-items: center;background-color: white;padding-right: 0.2em;padding-left: 0.2em;position: relative;}#sk-container-id-1 div.sk-item {position: relative;z-index: 1;}#sk-container-id-1 div.sk-parallel {display: flex;align-items: stretch;justify-content: center;background-color: white;position: relative;}#sk-container-id-1 div.sk-item::before, #sk-container-id-1 div.sk-parallel-item::before {content: \"\";position: absolute;border-left: 1px solid gray;box-sizing: border-box;top: 0;bottom: 0;left: 50%;z-index: -1;}#sk-container-id-1 div.sk-parallel-item {display: flex;flex-direction: column;z-index: 1;position: relative;background-color: white;}#sk-container-id-1 div.sk-parallel-item:first-child::after {align-self: flex-end;width: 50%;}#sk-container-id-1 div.sk-parallel-item:last-child::after {align-self: flex-start;width: 50%;}#sk-container-id-1 div.sk-parallel-item:only-child::after {width: 0;}#sk-container-id-1 div.sk-dashed-wrapped {border: 1px dashed gray;margin: 0 0.4em 0.5em 0.4em;box-sizing: border-box;padding-bottom: 0.4em;background-color: white;}#sk-container-id-1 div.sk-label label {font-family: monospace;font-weight: bold;display: inline-block;line-height: 1.2em;}#sk-container-id-1 div.sk-label-container {text-align: center;}#sk-container-id-1 div.sk-container {/* jupyter's `normalize.less` sets `[hidden] { display: none; }` but bootstrap.min.css set `[hidden] { display: none !important; }` so we also need the `!important` here to be able to override the default hidden behavior on the sphinx rendered scikit-learn.org. See: https://github.com/scikit-learn/scikit-learn/issues/21755 */display: inline-block !important;position: relative;}#sk-container-id-1 div.sk-text-repr-fallback {display: none;}</style><div id=\"sk-container-id-1\" class=\"sk-top-container\"><div class=\"sk-text-repr-fallback\"><pre>Pipeline(steps=[(&#x27;tfidf&#x27;, TfidfVectorizer()), (&#x27;clf&#x27;, MultinomialNB())])</pre><b>In a Jupyter environment, please rerun this cell to show the HTML representation or trust the notebook. <br />On GitHub, the HTML representation is unable to render, please try loading this page with nbviewer.org.</b></div><div class=\"sk-container\" hidden><div class=\"sk-item sk-dashed-wrapped\"><div class=\"sk-label-container\"><div class=\"sk-label sk-toggleable\"><input class=\"sk-toggleable__control sk-hidden--visually\" id=\"sk-estimator-id-1\" type=\"checkbox\" ><label for=\"sk-estimator-id-1\" class=\"sk-toggleable__label sk-toggleable__label-arrow\">Pipeline</label><div class=\"sk-toggleable__content\"><pre>Pipeline(steps=[(&#x27;tfidf&#x27;, TfidfVectorizer()), (&#x27;clf&#x27;, MultinomialNB())])</pre></div></div></div><div class=\"sk-serial\"><div class=\"sk-item\"><div class=\"sk-estimator sk-toggleable\"><input class=\"sk-toggleable__control sk-hidden--visually\" id=\"sk-estimator-id-2\" type=\"checkbox\" ><label for=\"sk-estimator-id-2\" class=\"sk-toggleable__label sk-toggleable__label-arrow\">TfidfVectorizer</label><div class=\"sk-toggleable__content\"><pre>TfidfVectorizer()</pre></div></div></div><div class=\"sk-item\"><div class=\"sk-estimator sk-toggleable\"><input class=\"sk-toggleable__control sk-hidden--visually\" id=\"sk-estimator-id-3\" type=\"checkbox\" ><label for=\"sk-estimator-id-3\" class=\"sk-toggleable__label sk-toggleable__label-arrow\">MultinomialNB</label><div class=\"sk-toggleable__content\"><pre>MultinomialNB()</pre></div></div></div></div></div></div></div>"
      ],
      "text/plain": [
       "Pipeline(steps=[('tfidf', TfidfVectorizer()), ('clf', MultinomialNB())])"
      ]
     },
     "execution_count": 28,
     "metadata": {},
     "output_type": "execute_result"
    }
   ],
   "source": [
    "from sklearn.pipeline import Pipeline\n",
    "from sklearn.feature_extraction.text import TfidfVectorizer\n",
    "from sklearn.naive_bayes import MultinomialNB\n",
    "\n",
    "\n",
    "# Create tokenization and modelling pipeline\n",
    "model_0 = Pipeline([\n",
    "    ('tfidf',TfidfVectorizer()),\n",
    "    ('clf',MultinomialNB())\n",
    "])\n",
    "\n",
    "model_0.fit(train_sentences_,train_labels)"
   ]
  },
  {
   "cell_type": "code",
   "execution_count": 29,
   "id": "8bf5f7fe",
   "metadata": {},
   "outputs": [
    {
     "name": "stdout",
     "output_type": "stream",
     "text": [
      "Our baseline model achieves Accuracy of :79.27%\n"
     ]
    }
   ],
   "source": [
    "# Let's evaluate our model and find our baseline metric\n",
    "baseline_score=model_0.score(val_sentences,val_labels)\n",
    "print(f\"Our baseline model achieves Accuracy of :{baseline_score*100:.2f}%\")"
   ]
  },
  {
   "cell_type": "code",
   "execution_count": 30,
   "id": "73f567f3",
   "metadata": {},
   "outputs": [
    {
     "data": {
      "text/plain": [
       "array([1, 1, 1, 0, 0, 1, 1, 1, 1, 0, 0, 1, 0, 0, 0, 0, 0, 0, 0, 1],\n",
       "      dtype=int64)"
      ]
     },
     "execution_count": 30,
     "metadata": {},
     "output_type": "execute_result"
    }
   ],
   "source": [
    "# Make predictions\n",
    "baseline_preds= model_0.predict(val_sentences)\n",
    "baseline_preds[:20]"
   ]
  },
  {
   "cell_type": "code",
   "execution_count": 31,
   "id": "7b68d753",
   "metadata": {},
   "outputs": [],
   "source": [
    "# Function to evaluate: accuracy, precision, recall, f1-score\n",
    "from sklearn.metrics import accuracy_score, precision_recall_fscore_support\n",
    "\n",
    "def calculate_results(y_true,y_pred):\n",
    "    \"\"\"\n",
    "      Calculates model accuracy, precision, recall and f1 score of a binary classification model.\n",
    "\n",
    "      Args:\n",
    "      -----\n",
    "      y_true = true labels in the form of a 1D array\n",
    "      y_pred = predicted labels in the form of a 1D array\n",
    "\n",
    "      Returns a dictionary of accuracy, precision, recall, f1-score.\n",
    "    \"\"\"\n",
    "    model_accuracy = accuracy_score(y_true,y_pred)\n",
    "    model_precision,model_recall,model_f1_score,_=precision_recall_fscore_support(y_true,y_pred,average='weighted')\n",
    "    \n",
    "    return {\n",
    "        'Accuracy': model_accuracy,\n",
    "        'Precision': model_precision,\n",
    "        'Recall': model_recall,\n",
    "        'F1_Score':model_f1_score\n",
    "    }\n",
    "    "
   ]
  },
  {
   "cell_type": "code",
   "execution_count": 32,
   "id": "55add078",
   "metadata": {},
   "outputs": [
    {
     "data": {
      "text/plain": [
       "{'Accuracy': 0.7926509186351706,\n",
       " 'Precision': 0.8111390004213173,\n",
       " 'Recall': 0.7926509186351706,\n",
       " 'F1_Score': 0.7862189758049549}"
      ]
     },
     "execution_count": 32,
     "metadata": {},
     "output_type": "execute_result"
    }
   ],
   "source": [
    "# Get baseline results\n",
    "baseline_results = calculate_results(y_true=val_labels,\n",
    "                                     y_pred=baseline_preds)\n",
    "baseline_results"
   ]
  },
  {
   "cell_type": "markdown",
   "id": "ecb9ad4a",
   "metadata": {},
   "source": [
    "### Model 1: A simple dense model"
   ]
  },
  {
   "cell_type": "code",
   "execution_count": 33,
   "id": "e0d3e6e3",
   "metadata": {},
   "outputs": [],
   "source": [
    "# Build model with the Functional API\n",
    "inputs = tf.keras.layers.Input(shape=(1,),dtype='string') # inputs are 1-dimensional strings\n",
    "x = text_vectorization(inputs) # turn the input text into numbers\n",
    "x = embedding(x) # create an embedding of the numerized numbers\n",
    "x = tf.keras.layers.GlobalAveragePooling1D()(x) # lower the dimensionality of the embedding (try running the model without this layer and see what happens)\n",
    "outputs = tf.keras.layers.Dense(1,activation='sigmoid')(x) # create the output layer, want binary outputs so use sigmoid activation\n",
    "model_1 = tf.keras.Model(inputs,outputs,name=\"model_1_dense\") # construct the model\n"
   ]
  },
  {
   "cell_type": "code",
   "execution_count": 34,
   "id": "863bc57a",
   "metadata": {},
   "outputs": [],
   "source": [
    "# Compile\n",
    "model_1.compile(loss=tf.keras.losses.binary_crossentropy,\n",
    "                optimizer = tf.keras.optimizers.Adam(),\n",
    "                metrics= ['accuracy']\n",
    ")"
   ]
  },
  {
   "cell_type": "code",
   "execution_count": 35,
   "id": "d88ed136",
   "metadata": {},
   "outputs": [
    {
     "name": "stdout",
     "output_type": "stream",
     "text": [
      "Model: \"model_1_dense\"\n",
      "_________________________________________________________________\n",
      " Layer (type)                Output Shape              Param #   \n",
      "=================================================================\n",
      " input_1 (InputLayer)        [(None, 1)]               0         \n",
      "                                                                 \n",
      " text_vectorization (TextVec  (None, 26)               0         \n",
      " torization)                                                     \n",
      "                                                                 \n",
      " embedding_1 (Embedding)     (None, 26, 128)           1280000   \n",
      "                                                                 \n",
      " global_average_pooling1d (G  (None, 128)              0         \n",
      " lobalAveragePooling1D)                                          \n",
      "                                                                 \n",
      " dense (Dense)               (None, 1)                 129       \n",
      "                                                                 \n",
      "=================================================================\n",
      "Total params: 1,280,129\n",
      "Trainable params: 1,280,129\n",
      "Non-trainable params: 0\n",
      "_________________________________________________________________\n"
     ]
    }
   ],
   "source": [
    "model_1.summary()"
   ]
  },
  {
   "cell_type": "code",
   "execution_count": 36,
   "id": "41eea508",
   "metadata": {},
   "outputs": [
    {
     "name": "stdout",
     "output_type": "stream",
     "text": [
      "Epoch 1/5\n",
      "215/215 [==============================] - 5s 21ms/step - loss: 0.6360 - accuracy: 0.6335 - val_loss: 0.5801 - val_accuracy: 0.7402\n",
      "Epoch 2/5\n",
      "215/215 [==============================] - 4s 19ms/step - loss: 0.4870 - accuracy: 0.8095 - val_loss: 0.4909 - val_accuracy: 0.7940\n",
      "Epoch 3/5\n",
      "215/215 [==============================] - 4s 19ms/step - loss: 0.3860 - accuracy: 0.8447 - val_loss: 0.4659 - val_accuracy: 0.8005\n",
      "Epoch 4/5\n",
      "215/215 [==============================] - 4s 19ms/step - loss: 0.3241 - accuracy: 0.8758 - val_loss: 0.4636 - val_accuracy: 0.7953\n",
      "Epoch 5/5\n",
      "215/215 [==============================] - 4s 19ms/step - loss: 0.2770 - accuracy: 0.8946 - val_loss: 0.4671 - val_accuracy: 0.8045\n"
     ]
    }
   ],
   "source": [
    "# Fit Model\n",
    "model_1_history = model_1.fit(train_sentences_,\n",
    "                              train_labels,\n",
    "                              epochs=5,\n",
    "                              validation_data=(val_sentences,val_labels)\n",
    "                             )"
   ]
  },
  {
   "cell_type": "code",
   "execution_count": 37,
   "id": "7b2633ba",
   "metadata": {},
   "outputs": [
    {
     "name": "stdout",
     "output_type": "stream",
     "text": [
      "24/24 [==============================] - 0s 3ms/step - loss: 0.4671 - accuracy: 0.8045\n"
     ]
    },
    {
     "data": {
      "text/plain": [
       "[0.4670925736427307, 0.8044619560241699]"
      ]
     },
     "execution_count": 37,
     "metadata": {},
     "output_type": "execute_result"
    }
   ],
   "source": [
    "# Check Result\n",
    "model_1.evaluate(val_sentences,val_labels)"
   ]
  },
  {
   "cell_type": "code",
   "execution_count": 38,
   "id": "2c9b2a18",
   "metadata": {},
   "outputs": [
    {
     "data": {
      "text/plain": [
       "[<tf.Variable 'embedding_1/embeddings:0' shape=(10000, 128) dtype=float32, numpy=\n",
       " array([[-0.06314764, -0.05107242, -0.00371442, ..., -0.02510721,\n",
       "         -0.02661886, -0.03916049],\n",
       "        [ 0.00790768,  0.02499817,  0.01918732, ...,  0.04677424,\n",
       "          0.00362096,  0.01518988],\n",
       "        [-0.04304459,  0.00032974,  0.00143546, ..., -0.00180807,\n",
       "         -0.0069281 , -0.01034243],\n",
       "        ...,\n",
       "        [-0.02293282, -0.0882984 , -0.05276566, ...,  0.09632993,\n",
       "         -0.06180006, -0.09794832],\n",
       "        [-0.04139108, -0.07909486, -0.07125594, ...,  0.04522539,\n",
       "         -0.10403434, -0.07945165],\n",
       "        [-0.01722379, -0.06425311, -0.03726859, ...,  0.04574953,\n",
       "         -0.10267149, -0.10460084]], dtype=float32)>]"
      ]
     },
     "execution_count": 38,
     "metadata": {},
     "output_type": "execute_result"
    }
   ],
   "source": [
    "embedding.weights"
   ]
  },
  {
   "cell_type": "code",
   "execution_count": 39,
   "id": "63eecee7",
   "metadata": {},
   "outputs": [
    {
     "name": "stdout",
     "output_type": "stream",
     "text": [
      "(10000, 128)\n"
     ]
    }
   ],
   "source": [
    "embed_weights= model_1.get_layer('embedding_1').get_weights()[0]\n",
    "print(embed_weights.shape)"
   ]
  },
  {
   "cell_type": "code",
   "execution_count": 40,
   "id": "598764b1",
   "metadata": {},
   "outputs": [
    {
     "name": "stdout",
     "output_type": "stream",
     "text": [
      "24/24 [==============================] - 0s 3ms/step\n"
     ]
    },
    {
     "data": {
      "text/plain": [
       "array([[0.36045647],\n",
       "       [0.7260126 ],\n",
       "       [0.99568826],\n",
       "       [0.13915579],\n",
       "       [0.44170788],\n",
       "       [0.89599836],\n",
       "       [0.91285664],\n",
       "       [0.9899103 ],\n",
       "       [0.91358346],\n",
       "       [0.24678755]], dtype=float32)"
      ]
     },
     "execution_count": 40,
     "metadata": {},
     "output_type": "execute_result"
    }
   ],
   "source": [
    "# Chekeing Model_1 Probability Prediction\n",
    "model_1_pred_probs = model_1.predict(val_sentences)\n",
    "model_1_pred_probs[:10]"
   ]
  },
  {
   "cell_type": "code",
   "execution_count": 41,
   "id": "3a7c6358",
   "metadata": {},
   "outputs": [
    {
     "data": {
      "text/plain": [
       "<tf.Tensor: shape=(10,), dtype=float32, numpy=array([0., 1., 1., 0., 0., 1., 1., 1., 1., 0.], dtype=float32)>"
      ]
     },
     "execution_count": 41,
     "metadata": {},
     "output_type": "execute_result"
    }
   ],
   "source": [
    "# cheke Model_1 Prediction\n",
    "model_1_preds= tf.squeeze(tf.round(model_1_pred_probs))\n",
    "model_1_preds[:10]"
   ]
  },
  {
   "cell_type": "code",
   "execution_count": 42,
   "id": "0fa3ded2",
   "metadata": {},
   "outputs": [
    {
     "data": {
      "text/plain": [
       "{'Accuracy': 0.8044619422572179,\n",
       " 'Precision': 0.8113751421678678,\n",
       " 'Recall': 0.8044619422572179,\n",
       " 'F1_Score': 0.8013667754454019}"
      ]
     },
     "execution_count": 42,
     "metadata": {},
     "output_type": "execute_result"
    }
   ],
   "source": [
    "# Calculate Model_1 Metrics\n",
    "model_1_results= calculate_results(y_true=val_labels,\n",
    "                                   y_pred=model_1_preds)\n",
    "model_1_results"
   ]
  },
  {
   "cell_type": "code",
   "execution_count": 43,
   "id": "1c51dcbe",
   "metadata": {},
   "outputs": [
    {
     "data": {
      "text/plain": [
       "array([False, False, False, False])"
      ]
     },
     "execution_count": 43,
     "metadata": {},
     "output_type": "execute_result"
    }
   ],
   "source": [
    "np.array(list(model_1_results))> np.array(list(baseline_results))"
   ]
  },
  {
   "cell_type": "code",
   "execution_count": 44,
   "id": "ad0009f6",
   "metadata": {},
   "outputs": [
    {
     "name": "stdout",
     "output_type": "stream",
     "text": [
      "Accuracy 0.7926509186351706\n",
      "Precision 0.8111390004213173\n",
      "Recall 0.7926509186351706\n",
      "F1_Score 0.7862189758049549\n"
     ]
    }
   ],
   "source": [
    "for key, value in baseline_results.items():\n",
    "    print(key,value)"
   ]
  },
  {
   "cell_type": "code",
   "execution_count": 45,
   "id": "bffa4324",
   "metadata": {},
   "outputs": [
    {
     "name": "stdout",
     "output_type": "stream",
     "text": [
      "Baseline: Accuracy: 0.79, New: Accuracy:0.80,Difference : 0.011811023622047334\n",
      "Baseline: Precision: 0.81, New: Precision:0.81,Difference : 0.00023614174655051112\n",
      "Baseline: Recall: 0.79, New: Recall:0.80,Difference : 0.011811023622047334\n",
      "Baseline: F1_Score: 0.79, New: F1_Score:0.80,Difference : 0.01514779964044699\n"
     ]
    }
   ],
   "source": [
    "# Create a helper function to compare our baseline results to new model results\n",
    "def compare_baseline_to_new_model(baseline_results,model_new_result):\n",
    "    for key, value in baseline_results.items():\n",
    "        print(f\"Baseline: {key}: {value:.2f}, New: {key}:{model_new_result[key]:.2f},Difference : {model_new_result[key]-value}\")\n",
    "        \n",
    "compare_baseline_to_new_model(baseline_results=baseline_results,\n",
    "                              model_new_result=model_1_results)\n"
   ]
  },
  {
   "cell_type": "markdown",
   "id": "93de468b",
   "metadata": {},
   "source": [
    "### Model 2: LSTM\n",
    "\n",
    "We're going to start with an LSTM-powered RNN."
   ]
  },
  {
   "cell_type": "code",
   "execution_count": 46,
   "id": "7f594c47",
   "metadata": {},
   "outputs": [
    {
     "name": "stdout",
     "output_type": "stream",
     "text": [
      "(None, 26, 128)\n",
      "(None, 64)\n"
     ]
    }
   ],
   "source": [
    "# Set random seed and create embedding layer (new embedding layer for each model)\n",
    "tf.random.set_seed(42)\n",
    "\n",
    "# Set random seed and create embedding layer (new embedding layer for each model)\n",
    "model_2_embedding = tf.keras.layers.Embedding(input_dim=max_vocab_length,\n",
    "                                              output_dim=128,\n",
    "                                              input_length=max_length,\n",
    "                                              embeddings_initializer='uniform',\n",
    "                                              name='embading_layer_2'\n",
    "                                             )\n",
    "# Create LSTM model\n",
    "inputs= tf.keras.layers.Input(shape=(1,),dtype='string')\n",
    "x = text_vectorization(inputs)\n",
    "x = model_2_embedding(x)\n",
    "print(x.shape)\n",
    "x = tf.keras.layers.LSTM(64)(x)\n",
    "print(x.shape)\n",
    "outputs = tf.keras.layers.Dense(1,activation='sigmoid')(x)\n",
    "model_2 = tf.keras.Model(inputs,outputs,name='Model_2_LSTM')"
   ]
  },
  {
   "cell_type": "code",
   "execution_count": 47,
   "id": "5aa24c2e",
   "metadata": {},
   "outputs": [],
   "source": [
    "# Compile \n",
    "model_2.compile(loss = tf.keras.losses.binary_crossentropy,\n",
    "               optimizer= tf.keras.optimizers.Adam(),\n",
    "               metrics = ['accuracy'])"
   ]
  },
  {
   "cell_type": "code",
   "execution_count": 48,
   "id": "65fc7964",
   "metadata": {},
   "outputs": [
    {
     "name": "stdout",
     "output_type": "stream",
     "text": [
      "Model: \"Model_2_LSTM\"\n",
      "_________________________________________________________________\n",
      " Layer (type)                Output Shape              Param #   \n",
      "=================================================================\n",
      " input_2 (InputLayer)        [(None, 1)]               0         \n",
      "                                                                 \n",
      " text_vectorization (TextVec  (None, 26)               0         \n",
      " torization)                                                     \n",
      "                                                                 \n",
      " embading_layer_2 (Embedding  (None, 26, 128)          1280000   \n",
      " )                                                               \n",
      "                                                                 \n",
      " lstm (LSTM)                 (None, 64)                49408     \n",
      "                                                                 \n",
      " dense_1 (Dense)             (None, 1)                 65        \n",
      "                                                                 \n",
      "=================================================================\n",
      "Total params: 1,329,473\n",
      "Trainable params: 1,329,473\n",
      "Non-trainable params: 0\n",
      "_________________________________________________________________\n"
     ]
    }
   ],
   "source": [
    "model_2.summary()"
   ]
  },
  {
   "cell_type": "code",
   "execution_count": 49,
   "id": "93557cc0",
   "metadata": {},
   "outputs": [
    {
     "name": "stdout",
     "output_type": "stream",
     "text": [
      "Epoch 1/5\n",
      "215/215 [==============================] - 11s 35ms/step - loss: 0.5171 - accuracy: 0.7415 - val_loss: 0.4471 - val_accuracy: 0.7913\n",
      "Epoch 2/5\n",
      "215/215 [==============================] - 7s 32ms/step - loss: 0.3265 - accuracy: 0.8699 - val_loss: 0.4973 - val_accuracy: 0.7913\n",
      "Epoch 3/5\n",
      "215/215 [==============================] - 6s 30ms/step - loss: 0.2309 - accuracy: 0.9171 - val_loss: 0.5425 - val_accuracy: 0.7822\n",
      "Epoch 4/5\n",
      "215/215 [==============================] - 7s 31ms/step - loss: 0.1696 - accuracy: 0.9431 - val_loss: 0.6385 - val_accuracy: 0.7743\n",
      "Epoch 5/5\n",
      "215/215 [==============================] - 7s 31ms/step - loss: 0.1235 - accuracy: 0.9559 - val_loss: 0.8920 - val_accuracy: 0.7572\n"
     ]
    }
   ],
   "source": [
    "# Fit model_2_LSTM\n",
    "model_2_history = model_2.fit(train_sentences_,\n",
    "                              train_labels,\n",
    "                              epochs=5,\n",
    "                              validation_data=(val_sentences,val_labels)\n",
    "                             )"
   ]
  },
  {
   "cell_type": "code",
   "execution_count": 50,
   "id": "bd3d24d5",
   "metadata": {},
   "outputs": [
    {
     "name": "stdout",
     "output_type": "stream",
     "text": [
      "24/24 [==============================] - 1s 9ms/step\n"
     ]
    },
    {
     "data": {
      "text/plain": [
       "array([[0.99287415],\n",
       "       [0.7442581 ],\n",
       "       [0.99724245],\n",
       "       [0.00581938],\n",
       "       [0.01895161],\n",
       "       [0.9970265 ],\n",
       "       [0.9780667 ],\n",
       "       [0.9972836 ],\n",
       "       [0.99700326],\n",
       "       [0.4533666 ]], dtype=float32)"
      ]
     },
     "execution_count": 50,
     "metadata": {},
     "output_type": "execute_result"
    }
   ],
   "source": [
    "# Make predictions on the validation dataset\n",
    "model_2_pred_probs = model_2.predict(val_sentences)\n",
    "model_2_pred_probs[:10]"
   ]
  },
  {
   "cell_type": "code",
   "execution_count": 51,
   "id": "e5e8bcc2",
   "metadata": {},
   "outputs": [
    {
     "data": {
      "text/plain": [
       "<tf.Tensor: shape=(20,), dtype=float32, numpy=\n",
       "array([0., 1., 1., 0., 0., 1., 1., 1., 1., 0., 0., 1., 0., 0., 0., 0., 0.,\n",
       "       0., 0., 0.], dtype=float32)>"
      ]
     },
     "execution_count": 51,
     "metadata": {},
     "output_type": "execute_result"
    }
   ],
   "source": [
    "# Round out predictions and reduce to 1-dimensional array\n",
    "model_2_preds = tf.squeeze(np.round(model_1_pred_probs))\n",
    "model_2_preds[:20]"
   ]
  },
  {
   "cell_type": "code",
   "execution_count": 52,
   "id": "e17042ed",
   "metadata": {},
   "outputs": [
    {
     "data": {
      "text/plain": [
       "{'Accuracy': 0.8044619422572179,\n",
       " 'Precision': 0.8113751421678678,\n",
       " 'Recall': 0.8044619422572179,\n",
       " 'F1_Score': 0.8013667754454019}"
      ]
     },
     "execution_count": 52,
     "metadata": {},
     "output_type": "execute_result"
    }
   ],
   "source": [
    "# Calculate LSTM model results\n",
    "model_2_results = calculate_results(y_true=val_labels,\n",
    "                  y_pred=model_2_preds)\n",
    "model_2_results"
   ]
  },
  {
   "cell_type": "code",
   "execution_count": 53,
   "id": "3148b0d6",
   "metadata": {},
   "outputs": [
    {
     "name": "stdout",
     "output_type": "stream",
     "text": [
      "Baseline: Accuracy: 0.79, New: Accuracy:0.80,Difference : 0.011811023622047334\n",
      "Baseline: Precision: 0.81, New: Precision:0.81,Difference : 0.00023614174655051112\n",
      "Baseline: Recall: 0.79, New: Recall:0.80,Difference : 0.011811023622047334\n",
      "Baseline: F1_Score: 0.79, New: F1_Score:0.80,Difference : 0.01514779964044699\n"
     ]
    }
   ],
   "source": [
    "# Compare model 2 to baseline\n",
    "compare_baseline_to_new_model(baseline_results=baseline_results,model_new_result=model_2_results)"
   ]
  },
  {
   "cell_type": "markdown",
   "id": "a36e6d17",
   "metadata": {},
   "source": [
    "### Model 3: GRU\n",
    "\n",
    "Another popular and effective RNN component is the GRU or gated recurrent unit.\n",
    "\n",
    "The GRU cell has similar features to an LSTM cell but has less parameters."
   ]
  },
  {
   "cell_type": "code",
   "execution_count": 54,
   "id": "9dd99536",
   "metadata": {},
   "outputs": [
    {
     "name": "stdout",
     "output_type": "stream",
     "text": [
      "(None, 26)\n",
      "(None, 26, 128)\n",
      "(None, 64)\n"
     ]
    }
   ],
   "source": [
    "# Set random seed and create embedding layer (new embedding layer for each model)\n",
    "tf.random.set_seed(42)\n",
    "\n",
    "# Model_3 Embedding \n",
    "model_3_embedding = tf.keras.layers.Embedding(input_dim=max_vocab_length,\n",
    "                                              output_dim=128,\n",
    "                                              embeddings_initializer='uniform',\n",
    "                                              input_length=max_length,\n",
    "                                              name='Model_3_GRU_embedding'\n",
    "                                             )\n",
    "\n",
    "# Model3 Construction\n",
    "inputs = tf.keras.layers.Input(shape=(1,),dtype='string')\n",
    "x = text_vectorization(inputs)\n",
    "print(x.shape)\n",
    "x = model_3_embedding(x)\n",
    "print(x.shape)\n",
    "x = tf.keras.layers.GRU(64)(x)\n",
    "print(x.shape)\n",
    "outputs = tf.keras.layers.Dense(1,activation='sigmoid')(x)\n",
    "model_3 = tf.keras.Model(inputs,outputs,name='Model_3_GRU')\n"
   ]
  },
  {
   "cell_type": "code",
   "execution_count": 55,
   "id": "9ad40381",
   "metadata": {},
   "outputs": [],
   "source": [
    "# Compile The Model_3\n",
    "model_3.compile(loss= tf.keras.losses.binary_crossentropy,\n",
    "                optimizer= tf.keras.optimizers.Adam(),\n",
    "                metrics=['accuracy']\n",
    "               )"
   ]
  },
  {
   "cell_type": "code",
   "execution_count": 56,
   "id": "833478ae",
   "metadata": {},
   "outputs": [
    {
     "name": "stdout",
     "output_type": "stream",
     "text": [
      "Model: \"Model_3_GRU\"\n",
      "_________________________________________________________________\n",
      " Layer (type)                Output Shape              Param #   \n",
      "=================================================================\n",
      " input_3 (InputLayer)        [(None, 1)]               0         \n",
      "                                                                 \n",
      " text_vectorization (TextVec  (None, 26)               0         \n",
      " torization)                                                     \n",
      "                                                                 \n",
      " Model_3_GRU_embedding (Embe  (None, 26, 128)          1280000   \n",
      " dding)                                                          \n",
      "                                                                 \n",
      " gru (GRU)                   (None, 64)                37248     \n",
      "                                                                 \n",
      " dense_2 (Dense)             (None, 1)                 65        \n",
      "                                                                 \n",
      "=================================================================\n",
      "Total params: 1,317,313\n",
      "Trainable params: 1,317,313\n",
      "Non-trainable params: 0\n",
      "_________________________________________________________________\n"
     ]
    }
   ],
   "source": [
    "model_3.summary()"
   ]
  },
  {
   "cell_type": "code",
   "execution_count": 57,
   "id": "61d5e65f",
   "metadata": {},
   "outputs": [
    {
     "name": "stdout",
     "output_type": "stream",
     "text": [
      "Epoch 1/5\n",
      "215/215 [==============================] - 10s 30ms/step - loss: 0.6513 - accuracy: 0.6123 - val_loss: 0.5203 - val_accuracy: 0.7585\n",
      "Epoch 2/5\n",
      "215/215 [==============================] - 7s 31ms/step - loss: 0.4076 - accuracy: 0.8276 - val_loss: 0.4661 - val_accuracy: 0.7900\n",
      "Epoch 3/5\n",
      "215/215 [==============================] - 7s 31ms/step - loss: 0.2764 - accuracy: 0.8940 - val_loss: 0.4868 - val_accuracy: 0.7887\n",
      "Epoch 4/5\n",
      "215/215 [==============================] - 7s 33ms/step - loss: 0.1997 - accuracy: 0.9266 - val_loss: 0.5735 - val_accuracy: 0.7822\n",
      "Epoch 5/5\n",
      "215/215 [==============================] - 7s 30ms/step - loss: 0.1421 - accuracy: 0.9514 - val_loss: 0.6364 - val_accuracy: 0.7756\n"
     ]
    }
   ],
   "source": [
    "# Fit the Model_3 GRU\n",
    "model_3_history = model_3.fit(train_sentences_,\n",
    "                              train_labels,\n",
    "                              epochs=5,\n",
    "                              validation_data=(val_sentences,val_labels)\n",
    ")"
   ]
  },
  {
   "cell_type": "code",
   "execution_count": 58,
   "id": "031bf92a",
   "metadata": {},
   "outputs": [
    {
     "name": "stdout",
     "output_type": "stream",
     "text": [
      "24/24 [==============================] - 1s 7ms/step\n"
     ]
    },
    {
     "data": {
      "text/plain": [
       "array([[0.29362062],\n",
       "       [0.8950698 ],\n",
       "       [0.99712175],\n",
       "       [0.04526723],\n",
       "       [0.70771253],\n",
       "       [0.99608374],\n",
       "       [0.9316748 ],\n",
       "       [0.9972351 ],\n",
       "       [0.9932806 ],\n",
       "       [0.45956382]], dtype=float32)"
      ]
     },
     "execution_count": 58,
     "metadata": {},
     "output_type": "execute_result"
    }
   ],
   "source": [
    "# Model_3 probability posibility\n",
    "model_3_pred_probs = model_3.predict(val_sentences)\n",
    "model_3_pred_probs[:10]"
   ]
  },
  {
   "cell_type": "code",
   "execution_count": 59,
   "id": "9f4c5b76",
   "metadata": {},
   "outputs": [
    {
     "data": {
      "text/plain": [
       "<tf.Tensor: shape=(20,), dtype=float32, numpy=\n",
       "array([0., 1., 1., 0., 1., 1., 1., 1., 1., 0., 0., 1., 0., 0., 0., 0., 0.,\n",
       "       0., 0., 1.], dtype=float32)>"
      ]
     },
     "execution_count": 59,
     "metadata": {},
     "output_type": "execute_result"
    }
   ],
   "source": [
    "# Model_3 prediction\n",
    "model_3_preds= tf.round(tf.squeeze(model_3_pred_probs))\n",
    "model_3_preds[:20]"
   ]
  },
  {
   "cell_type": "code",
   "execution_count": 60,
   "id": "5e0455db",
   "metadata": {},
   "outputs": [
    {
     "data": {
      "text/plain": [
       "{'Accuracy': 0.7755905511811023,\n",
       " 'Precision': 0.7759863909628747,\n",
       " 'Recall': 0.7755905511811023,\n",
       " 'F1_Score': 0.7743062301518678}"
      ]
     },
     "execution_count": 60,
     "metadata": {},
     "output_type": "execute_result"
    }
   ],
   "source": [
    "# Calculate GRU Results\n",
    "model_3_results = calculate_results(y_true=val_labels,\n",
    "                                    y_pred=model_3_preds\n",
    "                                   )\n",
    "model_3_results"
   ]
  },
  {
   "cell_type": "code",
   "execution_count": 61,
   "id": "19db6a34",
   "metadata": {},
   "outputs": [
    {
     "name": "stdout",
     "output_type": "stream",
     "text": [
      "Baseline: Accuracy: 0.79, New: Accuracy:0.78,Difference : -0.017060367454068248\n",
      "Baseline: Precision: 0.81, New: Precision:0.78,Difference : -0.03515260945844256\n",
      "Baseline: Recall: 0.79, New: Recall:0.78,Difference : -0.017060367454068248\n",
      "Baseline: F1_Score: 0.79, New: F1_Score:0.77,Difference : -0.011912745653087087\n"
     ]
    }
   ],
   "source": [
    "# Compare Model_3 to baseline\n",
    "compare_baseline_to_new_model(baseline_results=baseline_results,\n",
    "                              model_new_result=model_3_results\n",
    "                             )"
   ]
  },
  {
   "cell_type": "markdown",
   "id": "f70aff46",
   "metadata": {},
   "source": [
    "### Model 4: Bidirectonal RNN model \n"
   ]
  },
  {
   "cell_type": "code",
   "execution_count": 62,
   "id": "6588558c",
   "metadata": {},
   "outputs": [],
   "source": [
    "# Set random seed and create embedding layer (new embedding layer for each model)\n",
    "tf.random.set_seed(42)\n",
    "\n",
    "# Embedding Layer for model_4\n",
    "model_4_embedding = tf.keras.layers.Embedding(input_dim=max_vocab_length,\n",
    "                                              output_dim=128,\n",
    "                                              input_length=max_length,\n",
    "                                              embeddings_initializer='uniform',\n",
    "                                              name= 'model_4_embedding'\n",
    "                                              )\n",
    "# Model_4 Structure\n",
    "inputs = tf.keras.layers.Input(shape=(1,),dtype='string')\n",
    "x = text_vectorization(inputs)\n",
    "x = model_4_embedding(x)\n",
    "x = tf.keras.layers.Bidirectional(tf.keras.layers.LSTM(64))(x)\n",
    "outputs = tf.keras.layers.Dense(1,activation='sigmoid')(x)\n",
    "model_4 = tf.keras.Model(inputs,outputs,name= 'model_4_RNN_bidirectinal')\n"
   ]
  },
  {
   "cell_type": "code",
   "execution_count": 63,
   "id": "5a1a75d2",
   "metadata": {},
   "outputs": [],
   "source": [
    "# Compile model_4\n",
    "model_4.compile(loss=tf.keras.losses.binary_crossentropy,\n",
    "                optimizer= tf.keras.optimizers.Adam(),\n",
    "                metrics=['accuracy']\n",
    "               )"
   ]
  },
  {
   "cell_type": "code",
   "execution_count": 64,
   "id": "8305802d",
   "metadata": {},
   "outputs": [
    {
     "name": "stdout",
     "output_type": "stream",
     "text": [
      "Model: \"model_4_RNN_bidirectinal\"\n",
      "_________________________________________________________________\n",
      " Layer (type)                Output Shape              Param #   \n",
      "=================================================================\n",
      " input_4 (InputLayer)        [(None, 1)]               0         \n",
      "                                                                 \n",
      " text_vectorization (TextVec  (None, 26)               0         \n",
      " torization)                                                     \n",
      "                                                                 \n",
      " model_4_embedding (Embeddin  (None, 26, 128)          1280000   \n",
      " g)                                                              \n",
      "                                                                 \n",
      " bidirectional (Bidirectiona  (None, 128)              98816     \n",
      " l)                                                              \n",
      "                                                                 \n",
      " dense_3 (Dense)             (None, 1)                 129       \n",
      "                                                                 \n",
      "=================================================================\n",
      "Total params: 1,378,945\n",
      "Trainable params: 1,378,945\n",
      "Non-trainable params: 0\n",
      "_________________________________________________________________\n"
     ]
    }
   ],
   "source": [
    "# Summary\n",
    "model_4.summary()"
   ]
  },
  {
   "cell_type": "code",
   "execution_count": 65,
   "id": "1c6e3559",
   "metadata": {},
   "outputs": [
    {
     "name": "stdout",
     "output_type": "stream",
     "text": [
      "Epoch 1/5\n",
      "215/215 [==============================] - 12s 39ms/step - loss: 0.5107 - accuracy: 0.7454 - val_loss: 0.4501 - val_accuracy: 0.7848\n",
      "Epoch 2/5\n",
      "215/215 [==============================] - 8s 36ms/step - loss: 0.3158 - accuracy: 0.8694 - val_loss: 0.4969 - val_accuracy: 0.7913\n",
      "Epoch 3/5\n",
      "215/215 [==============================] - 7s 34ms/step - loss: 0.2161 - accuracy: 0.9210 - val_loss: 0.5417 - val_accuracy: 0.7782\n",
      "Epoch 4/5\n",
      "215/215 [==============================] - 8s 35ms/step - loss: 0.1520 - accuracy: 0.9438 - val_loss: 0.7106 - val_accuracy: 0.7703\n",
      "Epoch 5/5\n",
      "215/215 [==============================] - 8s 39ms/step - loss: 0.1031 - accuracy: 0.9594 - val_loss: 0.7845 - val_accuracy: 0.7480\n"
     ]
    }
   ],
   "source": [
    "# Fit Model_4\n",
    "model_4_history = model_4.fit(train_sentences_,\n",
    "                              train_labels,\n",
    "                              epochs=5,\n",
    "                              validation_data=(val_sentences,val_labels)\n",
    "                              )"
   ]
  },
  {
   "cell_type": "code",
   "execution_count": 66,
   "id": "c87edb1b",
   "metadata": {},
   "outputs": [
    {
     "name": "stdout",
     "output_type": "stream",
     "text": [
      "24/24 [==============================] - 1s 11ms/step\n"
     ]
    },
    {
     "data": {
      "text/plain": [
       "array([[0.9841653 ],\n",
       "       [0.32376212],\n",
       "       [0.99868786],\n",
       "       [0.09082235],\n",
       "       [0.4070695 ],\n",
       "       [0.998198  ],\n",
       "       [0.84082526],\n",
       "       [0.99924636],\n",
       "       [0.9975951 ],\n",
       "       [0.43890256]], dtype=float32)"
      ]
     },
     "execution_count": 66,
     "metadata": {},
     "output_type": "execute_result"
    }
   ],
   "source": [
    "# Model_4 prediction Probability\n",
    "model_4_preds_prob = model_4.predict(val_sentences)\n",
    "model_4_preds_prob[:10]"
   ]
  },
  {
   "cell_type": "code",
   "execution_count": 67,
   "id": "519a8ff9",
   "metadata": {},
   "outputs": [
    {
     "data": {
      "text/plain": [
       "<tf.Tensor: shape=(20,), dtype=float32, numpy=\n",
       "array([1., 0., 1., 0., 0., 1., 1., 1., 1., 0., 0., 1., 0., 0., 0., 0., 0.,\n",
       "       0., 0., 1.], dtype=float32)>"
      ]
     },
     "execution_count": 67,
     "metadata": {},
     "output_type": "execute_result"
    }
   ],
   "source": [
    "# Model_4 Probability\n",
    "model_4_preds= tf.round(tf.squeeze(model_4_preds_prob))\n",
    "model_4_preds[:20]"
   ]
  },
  {
   "cell_type": "code",
   "execution_count": 68,
   "id": "b5eb99ea",
   "metadata": {},
   "outputs": [
    {
     "data": {
      "text/plain": [
       "{'Accuracy': 0.7480314960629921,\n",
       " 'Precision': 0.7476243671645544,\n",
       " 'Recall': 0.7480314960629921,\n",
       " 'F1_Score': 0.7476983829605197}"
      ]
     },
     "execution_count": 68,
     "metadata": {},
     "output_type": "execute_result"
    }
   ],
   "source": [
    "# Model_4 Results \n",
    "model_4_results = calculate_results(y_true=val_labels,\n",
    "                                    y_pred=model_4_preds\n",
    "                                   ) \n",
    "model_4_results"
   ]
  },
  {
   "cell_type": "code",
   "execution_count": 69,
   "id": "57dcb26c",
   "metadata": {},
   "outputs": [
    {
     "name": "stdout",
     "output_type": "stream",
     "text": [
      "Baseline: Accuracy: 0.79, New: Accuracy:0.75,Difference : -0.044619422572178435\n",
      "Baseline: Precision: 0.81, New: Precision:0.75,Difference : -0.06351463325676288\n",
      "Baseline: Recall: 0.79, New: Recall:0.75,Difference : -0.044619422572178435\n",
      "Baseline: F1_Score: 0.79, New: F1_Score:0.75,Difference : -0.03852059284443521\n"
     ]
    }
   ],
   "source": [
    "compare_baseline_to_new_model(baseline_results=baseline_results,\n",
    "                             model_new_result=model_4_results)"
   ]
  },
  {
   "cell_type": "markdown",
   "id": "9369bb2c",
   "metadata": {},
   "source": [
    "### Model 5: Conv1D\n",
    "\n",
    "Before we build a full 1-dimensional CNN model, let's see a 1-dimensional convolutional layer (also called a **temporal convolution**) in action.\n",
    "\n",
    "We'll first create an embedding of a sample of text and experiment passing it through a `Conv1D()` layer and `GlobalMaxPool1D()` layer."
   ]
  },
  {
   "cell_type": "code",
   "execution_count": 70,
   "id": "75a26be5",
   "metadata": {},
   "outputs": [
    {
     "data": {
      "text/plain": [
       "(TensorShape([1, 26, 128]), TensorShape([1, 26, 64]), TensorShape([1, 64]))"
      ]
     },
     "execution_count": 70,
     "metadata": {},
     "output_type": "execute_result"
    }
   ],
   "source": [
    "embedding_test = embedding(text_vectorization([\"this's a test sentence\"]))\n",
    "conv_1d = tf.keras.layers.Conv1D(filters=64,kernel_size=5,activation='relu',padding='same')\n",
    "conv_1d_output = conv_1d(embedding_test)\n",
    "max_pool=tf.keras.layers.GlobalMaxPool1D()\n",
    "max_pool_output = max_pool(conv_1d_output)\n",
    "embedding_test.shape,conv_1d_output.shape,max_pool_output.shape"
   ]
  },
  {
   "cell_type": "code",
   "execution_count": 71,
   "id": "17bd5358",
   "metadata": {},
   "outputs": [
    {
     "data": {
      "text/plain": [
       "(<tf.Tensor: shape=(1, 26, 128), dtype=float32, numpy=\n",
       " array([[[ 0.00790768,  0.02499817,  0.01918732, ...,  0.04677424,\n",
       "           0.00362096,  0.01518988],\n",
       "         [-0.0471019 ,  0.02498078, -0.02130593, ..., -0.00256081,\n",
       "           0.01376428,  0.03146987],\n",
       "         [-0.08556374, -0.08301105, -0.1579225 , ...,  0.08011254,\n",
       "          -0.1578477 , -0.1261908 ],\n",
       "         ...,\n",
       "         [-0.06314764, -0.05107242, -0.00371442, ..., -0.02510721,\n",
       "          -0.02661886, -0.03916049],\n",
       "         [-0.06314764, -0.05107242, -0.00371442, ..., -0.02510721,\n",
       "          -0.02661886, -0.03916049],\n",
       "         [-0.06314764, -0.05107242, -0.00371442, ..., -0.02510721,\n",
       "          -0.02661886, -0.03916049]]], dtype=float32)>,\n",
       " <tf.Tensor: shape=(1, 26, 64), dtype=float32, numpy=\n",
       " array([[[0.        , 0.        , 0.00616926, ..., 0.        ,\n",
       "          0.        , 0.0492143 ],\n",
       "         [0.        , 0.10247052, 0.04465018, ..., 0.        ,\n",
       "          0.        , 0.        ],\n",
       "         [0.        , 0.12949875, 0.00128395, ..., 0.01355625,\n",
       "          0.07871249, 0.        ],\n",
       "         ...,\n",
       "         [0.        , 0.04747187, 0.        , ..., 0.01693511,\n",
       "          0.00130238, 0.        ],\n",
       "         [0.        , 0.04162725, 0.        , ..., 0.00507581,\n",
       "          0.00038369, 0.        ],\n",
       "         [0.        , 0.03345069, 0.        , ..., 0.        ,\n",
       "          0.02307753, 0.        ]]], dtype=float32)>,\n",
       " <tf.Tensor: shape=(1, 64), dtype=float32, numpy=\n",
       " array([[0.01192035, 0.12949875, 0.04465018, 0.02253386, 0.05808   ,\n",
       "         0.02786258, 0.02760337, 0.04903656, 0.03787023, 0.06171539,\n",
       "         0.07610182, 0.        , 0.14779039, 0.06026845, 0.02749252,\n",
       "         0.08759797, 0.05769052, 0.02916181, 0.09680035, 0.13203967,\n",
       "         0.11244268, 0.08831519, 0.02932091, 0.12703498, 0.13332796,\n",
       "         0.09562034, 0.12571692, 0.18450189, 0.07002173, 0.05547006,\n",
       "         0.04301232, 0.08810683, 0.05018476, 0.03826415, 0.10360856,\n",
       "         0.04310487, 0.05910284, 0.09951639, 0.09275395, 0.10909115,\n",
       "         0.05668272, 0.11200771, 0.08711608, 0.05020926, 0.137217  ,\n",
       "         0.04869284, 0.14062345, 0.03477382, 0.10979952, 0.08362342,\n",
       "         0.06114976, 0.07028998, 0.09768514, 0.09826801, 0.10559644,\n",
       "         0.06551217, 0.05667428, 0.0348918 , 0.01507811, 0.03037984,\n",
       "         0.0079842 , 0.16560376, 0.07871249, 0.0492143 ]], dtype=float32)>)"
      ]
     },
     "execution_count": 71,
     "metadata": {},
     "output_type": "execute_result"
    }
   ],
   "source": [
    "# See the outputs of each layer\n",
    "embedding_test,conv_1d_output,max_pool_output"
   ]
  },
  {
   "cell_type": "code",
   "execution_count": 72,
   "id": "1195e4c2",
   "metadata": {},
   "outputs": [],
   "source": [
    "# set Random State\n",
    "tf.random.set_seed(42)\n",
    "\n",
    "# Model_5 Embedding Layer\n",
    "model_5_embedding = tf.keras.layers.Embedding(input_dim=max_vocab_length,\n",
    "                                              output_dim=128,\n",
    "                                              input_length=max_length,\n",
    "                                               embeddings_initializer='uniform'\n",
    "                                             ) \n",
    "# Model_5 structure \n",
    "inputs = tf.keras.layers.Input(shape=(1,),dtype='string')\n",
    "x = text_vectorization(inputs)\n",
    "x = model_5_embedding(x)\n",
    "x = tf.keras.layers.Conv1D(filters=32,kernel_size=5,activation='relu')(x)\n",
    "x = tf.keras.layers.GlobalMaxPool1D()(x)\n",
    "x = tf.keras.layers.Dense(64,activation='relu')(x)\n",
    "outputs = tf.keras.layers.Dense(1,activation='sigmoid')(x)\n",
    "model_5 = tf.keras.Model(inputs,outputs,name='Model_5')"
   ]
  },
  {
   "cell_type": "code",
   "execution_count": 73,
   "id": "21e2577c",
   "metadata": {},
   "outputs": [],
   "source": [
    "# compile The model\n",
    "model_5.compile(loss=tf.keras.losses.binary_crossentropy,\n",
    "                optimizer= tf.keras.optimizers.Adam(),\n",
    "                metrics=['accuracy']\n",
    "               )"
   ]
  },
  {
   "cell_type": "code",
   "execution_count": 74,
   "id": "58de1fe3",
   "metadata": {},
   "outputs": [
    {
     "name": "stdout",
     "output_type": "stream",
     "text": [
      "Model: \"Model_5\"\n",
      "_________________________________________________________________\n",
      " Layer (type)                Output Shape              Param #   \n",
      "=================================================================\n",
      " input_5 (InputLayer)        [(None, 1)]               0         \n",
      "                                                                 \n",
      " text_vectorization (TextVec  (None, 26)               0         \n",
      " torization)                                                     \n",
      "                                                                 \n",
      " embedding (Embedding)       (None, 26, 128)           1280000   \n",
      "                                                                 \n",
      " conv1d_1 (Conv1D)           (None, 22, 32)            20512     \n",
      "                                                                 \n",
      " global_max_pooling1d_1 (Glo  (None, 32)               0         \n",
      " balMaxPooling1D)                                                \n",
      "                                                                 \n",
      " dense_4 (Dense)             (None, 64)                2112      \n",
      "                                                                 \n",
      " dense_5 (Dense)             (None, 1)                 65        \n",
      "                                                                 \n",
      "=================================================================\n",
      "Total params: 1,302,689\n",
      "Trainable params: 1,302,689\n",
      "Non-trainable params: 0\n",
      "_________________________________________________________________\n"
     ]
    }
   ],
   "source": [
    "model_5.summary()"
   ]
  },
  {
   "cell_type": "code",
   "execution_count": 75,
   "id": "a9c96921",
   "metadata": {},
   "outputs": [
    {
     "name": "stdout",
     "output_type": "stream",
     "text": [
      "Epoch 1/5\n",
      "215/215 [==============================] - 6s 23ms/step - loss: 0.5396 - accuracy: 0.7254 - val_loss: 0.4589 - val_accuracy: 0.7966\n",
      "Epoch 2/5\n",
      "215/215 [==============================] - 4s 20ms/step - loss: 0.3015 - accuracy: 0.8829 - val_loss: 0.5076 - val_accuracy: 0.7900\n",
      "Epoch 3/5\n",
      "215/215 [==============================] - 4s 20ms/step - loss: 0.1575 - accuracy: 0.9499 - val_loss: 0.5770 - val_accuracy: 0.7703\n",
      "Epoch 4/5\n",
      "215/215 [==============================] - 4s 20ms/step - loss: 0.1053 - accuracy: 0.9692 - val_loss: 0.6234 - val_accuracy: 0.7795\n",
      "Epoch 5/5\n",
      "215/215 [==============================] - 4s 20ms/step - loss: 0.0806 - accuracy: 0.9766 - val_loss: 0.6587 - val_accuracy: 0.7795\n"
     ]
    }
   ],
   "source": [
    "# Model_5 Fit\n",
    "model_5_history = model_5.fit(train_sentences_,\n",
    "                              train_labels,\n",
    "                              epochs=5,\n",
    "                              validation_data=(val_sentences,val_labels)\n",
    "                             )"
   ]
  },
  {
   "cell_type": "code",
   "execution_count": 76,
   "id": "bdf2155d",
   "metadata": {},
   "outputs": [
    {
     "name": "stdout",
     "output_type": "stream",
     "text": [
      "24/24 [==============================] - 0s 4ms/step\n"
     ]
    },
    {
     "data": {
      "text/plain": [
       "array([[0.14627191],\n",
       "       [0.6946108 ],\n",
       "       [0.99972206],\n",
       "       [0.02013723],\n",
       "       [0.13204361],\n",
       "       [0.9886598 ],\n",
       "       [0.69006   ],\n",
       "       [0.9982917 ],\n",
       "       [0.99794596],\n",
       "       [0.3717407 ]], dtype=float32)"
      ]
     },
     "execution_count": 76,
     "metadata": {},
     "output_type": "execute_result"
    }
   ],
   "source": [
    "# Model_5 Prediction Probability\n",
    "model_5_preds_probs = model_5.predict(val_sentences)\n",
    "model_5_preds_probs[:10]"
   ]
  },
  {
   "cell_type": "code",
   "execution_count": 77,
   "id": "a8cfd4e1",
   "metadata": {},
   "outputs": [
    {
     "data": {
      "text/plain": [
       "<tf.Tensor: shape=(20,), dtype=float32, numpy=\n",
       "array([0., 1., 1., 0., 0., 1., 1., 1., 1., 0., 0., 0., 0., 0., 0., 0., 0.,\n",
       "       0., 0., 0.], dtype=float32)>"
      ]
     },
     "execution_count": 77,
     "metadata": {},
     "output_type": "execute_result"
    }
   ],
   "source": [
    "# Model_5 Preds\n",
    "model_5_preds = tf.squeeze(tf.round(model_5_preds_probs))\n",
    "model_5_preds[:20]"
   ]
  },
  {
   "cell_type": "code",
   "execution_count": 78,
   "id": "50342566",
   "metadata": {},
   "outputs": [
    {
     "data": {
      "text/plain": [
       "{'Accuracy': 0.7795275590551181,\n",
       " 'Precision': 0.7859220660173883,\n",
       " 'Recall': 0.7795275590551181,\n",
       " 'F1_Score': 0.7757938490040367}"
      ]
     },
     "execution_count": 78,
     "metadata": {},
     "output_type": "execute_result"
    }
   ],
   "source": [
    "model_5_results= calculate_results(y_true=val_labels,\n",
    "                                   y_pred=model_5_preds)\n",
    "model_5_results"
   ]
  },
  {
   "cell_type": "code",
   "execution_count": 79,
   "id": "1119295a",
   "metadata": {},
   "outputs": [
    {
     "name": "stdout",
     "output_type": "stream",
     "text": [
      "Baseline: Accuracy: 0.79, New: Accuracy:0.78,Difference : -0.013123359580052507\n",
      "Baseline: Precision: 0.81, New: Precision:0.79,Difference : -0.025216934403928914\n",
      "Baseline: Recall: 0.79, New: Recall:0.78,Difference : -0.013123359580052507\n",
      "Baseline: F1_Score: 0.79, New: F1_Score:0.78,Difference : -0.010425126800918227\n"
     ]
    }
   ],
   "source": [
    "compare_baseline_to_new_model(baseline_results=baseline_results,\n",
    "                             model_new_result=model_5_results)"
   ]
  },
  {
   "cell_type": "markdown",
   "id": "5825e9a8",
   "metadata": {},
   "source": [
    "### Model 6: LSTM and GRU Stack model"
   ]
  },
  {
   "cell_type": "code",
   "execution_count": 80,
   "id": "ceea9092",
   "metadata": {},
   "outputs": [
    {
     "name": "stdout",
     "output_type": "stream",
     "text": [
      "(None, 26, 128)\n",
      "(None, 26, 64)\n",
      "(None, 64)\n"
     ]
    }
   ],
   "source": [
    "# Set Random seed\n",
    "tf.random.set_seed(42)\n",
    "\n",
    "# Embedding Layer of Model 6\n",
    "model_6_embedding = tf.keras.layers.Embedding(input_dim=max_vocab_length,\n",
    "                                              output_dim=128,\n",
    "                                              input_length=max_length,\n",
    "                                              embeddings_initializer='uniform')\n",
    "\n",
    "# Model_6 Structure\n",
    "inputs = tf.keras.layers.Input(shape=(1,),dtype='string')\n",
    "x = text_vectorization(inputs)\n",
    "x = model_6_embedding(x)\n",
    "print(x.shape)\n",
    "x = tf.keras.layers.LSTM(64,return_sequences=True)(x)\n",
    "print(x.shape)\n",
    "x = tf.keras.layers.GRU(64)(x)\n",
    "print(x.shape)\n",
    "x = tf.keras.layers.Dense(64,activation='relu')(x)\n",
    "outputs = tf.keras.layers.Dense(1,activation='sigmoid')(x)\n",
    "model_6 = tf.keras.Model(inputs,outputs)"
   ]
  },
  {
   "cell_type": "code",
   "execution_count": 81,
   "id": "d6e908e1",
   "metadata": {},
   "outputs": [],
   "source": [
    "# Compile The Model\n",
    "model_6.compile(loss = tf.keras.losses.binary_crossentropy,\n",
    "                optimizer= tf.keras.optimizers.Adam(),\n",
    "                metrics =['accuracy']\n",
    "               )"
   ]
  },
  {
   "cell_type": "code",
   "execution_count": 82,
   "id": "aa890039",
   "metadata": {},
   "outputs": [
    {
     "name": "stdout",
     "output_type": "stream",
     "text": [
      "Model: \"model\"\n",
      "_________________________________________________________________\n",
      " Layer (type)                Output Shape              Param #   \n",
      "=================================================================\n",
      " input_6 (InputLayer)        [(None, 1)]               0         \n",
      "                                                                 \n",
      " text_vectorization (TextVec  (None, 26)               0         \n",
      " torization)                                                     \n",
      "                                                                 \n",
      " embedding_1 (Embedding)     (None, 26, 128)           1280000   \n",
      "                                                                 \n",
      " lstm_2 (LSTM)               (None, 26, 64)            49408     \n",
      "                                                                 \n",
      " gru_1 (GRU)                 (None, 64)                24960     \n",
      "                                                                 \n",
      " dense_6 (Dense)             (None, 64)                4160      \n",
      "                                                                 \n",
      " dense_7 (Dense)             (None, 1)                 65        \n",
      "                                                                 \n",
      "=================================================================\n",
      "Total params: 1,358,593\n",
      "Trainable params: 1,358,593\n",
      "Non-trainable params: 0\n",
      "_________________________________________________________________\n"
     ]
    }
   ],
   "source": [
    "# Summary of model_6\n",
    "model_6.summary()"
   ]
  },
  {
   "cell_type": "code",
   "execution_count": 83,
   "id": "4ad5c278",
   "metadata": {},
   "outputs": [
    {
     "name": "stdout",
     "output_type": "stream",
     "text": [
      "Epoch 1/5\n",
      "215/215 [==============================] - 17s 55ms/step - loss: 0.5206 - accuracy: 0.7345 - val_loss: 0.4560 - val_accuracy: 0.7992\n",
      "Epoch 2/5\n",
      "215/215 [==============================] - 9s 43ms/step - loss: 0.3288 - accuracy: 0.8701 - val_loss: 0.5035 - val_accuracy: 0.7835\n",
      "Epoch 3/5\n",
      "215/215 [==============================] - 10s 44ms/step - loss: 0.2271 - accuracy: 0.9188 - val_loss: 0.5454 - val_accuracy: 0.7822\n",
      "Epoch 4/5\n",
      "215/215 [==============================] - 9s 44ms/step - loss: 0.1596 - accuracy: 0.9429 - val_loss: 0.8036 - val_accuracy: 0.7782\n",
      "Epoch 5/5\n",
      "215/215 [==============================] - 9s 43ms/step - loss: 0.1195 - accuracy: 0.9531 - val_loss: 0.8377 - val_accuracy: 0.7612\n"
     ]
    }
   ],
   "source": [
    "# Fit Model_6 \n",
    "model_6_history = model_6.fit(train_sentences_,\n",
    "                              train_labels,\n",
    "                              epochs = 5,\n",
    "                              validation_data=(val_sentences,val_labels)\n",
    "                             )"
   ]
  },
  {
   "cell_type": "code",
   "execution_count": 84,
   "id": "ec4897a9",
   "metadata": {},
   "outputs": [
    {
     "name": "stdout",
     "output_type": "stream",
     "text": [
      "24/24 [==============================] - 1s 15ms/step\n"
     ]
    },
    {
     "data": {
      "text/plain": [
       "array([[0.908398  ],\n",
       "       [0.7513985 ],\n",
       "       [0.99857336],\n",
       "       [0.03008763],\n",
       "       [0.24218869],\n",
       "       [0.9976055 ],\n",
       "       [0.9740095 ],\n",
       "       [0.9984323 ],\n",
       "       [0.9980483 ],\n",
       "       [0.29378223]], dtype=float32)"
      ]
     },
     "execution_count": 84,
     "metadata": {},
     "output_type": "execute_result"
    }
   ],
   "source": [
    "# Model_6 probability Prediction\n",
    "model_6_preds_prob = model_6.predict(val_sentences)\n",
    "model_6_preds_prob[:10]"
   ]
  },
  {
   "cell_type": "code",
   "execution_count": 85,
   "id": "2891cc86",
   "metadata": {},
   "outputs": [
    {
     "data": {
      "text/plain": [
       "<tf.Tensor: shape=(20,), dtype=float32, numpy=\n",
       "array([1., 1., 1., 0., 0., 1., 1., 1., 1., 0., 0., 1., 0., 0., 0., 0., 0.,\n",
       "       0., 0., 1.], dtype=float32)>"
      ]
     },
     "execution_count": 85,
     "metadata": {},
     "output_type": "execute_result"
    }
   ],
   "source": [
    "# Model_6 prediction\n",
    "model_6_preds = tf.squeeze(tf.round(model_6_preds_prob))\n",
    "model_6_preds[:20]"
   ]
  },
  {
   "cell_type": "code",
   "execution_count": 86,
   "id": "cb6181d4",
   "metadata": {},
   "outputs": [
    {
     "data": {
      "text/plain": [
       "{'Accuracy': 0.7611548556430446,\n",
       " 'Precision': 0.7617086366916097,\n",
       " 'Recall': 0.7611548556430446,\n",
       " 'F1_Score': 0.7594983627881854}"
      ]
     },
     "execution_count": 86,
     "metadata": {},
     "output_type": "execute_result"
    }
   ],
   "source": [
    "# Result od model_6\n",
    "model_6_results = calculate_results(y_true=val_labels,\n",
    "                                    y_pred=model_6_preds\n",
    "                                   )\n",
    "model_6_results"
   ]
  },
  {
   "cell_type": "code",
   "execution_count": 87,
   "id": "e3712847",
   "metadata": {},
   "outputs": [
    {
     "name": "stdout",
     "output_type": "stream",
     "text": [
      "Baseline: Accuracy: 0.79, New: Accuracy:0.76,Difference : -0.03149606299212593\n",
      "Baseline: Precision: 0.81, New: Precision:0.76,Difference : -0.04943036372970755\n",
      "Baseline: Recall: 0.79, New: Recall:0.76,Difference : -0.03149606299212593\n",
      "Baseline: F1_Score: 0.79, New: F1_Score:0.76,Difference : -0.026720613016769534\n"
     ]
    }
   ],
   "source": [
    "compare_baseline_to_new_model(baseline_results=baseline_results,\n",
    "                              model_new_result=model_6_results\n",
    "                             )"
   ]
  },
  {
   "cell_type": "markdown",
   "id": "e0fd1491",
   "metadata": {},
   "source": [
    "###  Model_7 :TensorFlow Pretrain model\n",
    "\n",
    "**Universal Sentence Encoder family**\n",
    "https://tfhub.dev/google/universal-sentence-encoder/4"
   ]
  },
  {
   "cell_type": "code",
   "execution_count": 88,
   "id": "66eb48d4",
   "metadata": {},
   "outputs": [
    {
     "name": "stdout",
     "output_type": "stream",
     "text": [
      "WARNING:tensorflow:Please fix your imports. Module tensorflow.python.training.tracking.data_structures has been moved to tensorflow.python.trackable.data_structures. The old module will be deleted in version 2.11.\n"
     ]
    }
   ],
   "source": [
    "# We can use this encoding layer in place of our text_vectorizer and embedding layers\n",
    "import tensorflow_hub as hub\n",
    "sentence_encoder_layer = hub.KerasLayer(\"https://tfhub.dev/google/universal-sentence-encoder/4\",\n",
    "                                        input_shape=[], # shape of inputs coming to our model \n",
    "                                        dtype=tf.string, # data type of inputs coming to the USE layer\n",
    "                                        trainable=False, # keep the pretrained weights (we'll create a feature extractor)\n",
    "                                        name=\"USE\")"
   ]
  },
  {
   "cell_type": "code",
   "execution_count": 89,
   "id": "fed7af15",
   "metadata": {},
   "outputs": [
    {
     "name": "stdout",
     "output_type": "stream",
     "text": [
      "WARNING:tensorflow:From C:\\Users\\gtech\\anaconda3\\envs\\tf\\lib\\site-packages\\tensorflow\\python\\autograph\\pyct\\static_analysis\\liveness.py:83: Analyzer.lamba_check (from tensorflow.python.autograph.pyct.static_analysis.liveness) is deprecated and will be removed after 2023-09-23.\n",
      "Instructions for updating:\n",
      "Lambda fuctions will be no more assumed to be used in the statement where they are used, or at least in the same block. https://github.com/tensorflow/tensorflow/issues/56089\n"
     ]
    },
    {
     "name": "stderr",
     "output_type": "stream",
     "text": [
      "WARNING:tensorflow:From C:\\Users\\gtech\\anaconda3\\envs\\tf\\lib\\site-packages\\tensorflow\\python\\autograph\\pyct\\static_analysis\\liveness.py:83: Analyzer.lamba_check (from tensorflow.python.autograph.pyct.static_analysis.liveness) is deprecated and will be removed after 2023-09-23.\n",
      "Instructions for updating:\n",
      "Lambda fuctions will be no more assumed to be used in the statement where they are used, or at least in the same block. https://github.com/tensorflow/tensorflow/issues/56089\n"
     ]
    }
   ],
   "source": [
    "# Set Random Seed\n",
    "tf.random.set_seed(42)\n",
    "\n",
    "# Structure of model\n",
    "model_7 = tf.keras.Sequential([\n",
    "    sentence_encoder_layer,\n",
    "    tf.keras.layers.Dense(64,activation='relu'),\n",
    "    tf.keras.layers.Dense(1,activation='sigmoid'),\n",
    "],name='USE')\n"
   ]
  },
  {
   "cell_type": "code",
   "execution_count": 90,
   "id": "eb3e7a3a",
   "metadata": {},
   "outputs": [],
   "source": [
    "# Compile Model_7\n",
    "model_7.compile (  loss = tf.keras.losses.binary_crossentropy,\n",
    "                   optimizer = tf.keras.optimizers.Adam(),\n",
    "                   metrics =['accuracy'])"
   ]
  },
  {
   "cell_type": "code",
   "execution_count": 91,
   "id": "3c14b869",
   "metadata": {},
   "outputs": [
    {
     "name": "stdout",
     "output_type": "stream",
     "text": [
      "Model: \"USE\"\n",
      "_________________________________________________________________\n",
      " Layer (type)                Output Shape              Param #   \n",
      "=================================================================\n",
      " USE (KerasLayer)            (None, 512)               256797824 \n",
      "                                                                 \n",
      " dense_8 (Dense)             (None, 64)                32832     \n",
      "                                                                 \n",
      " dense_9 (Dense)             (None, 1)                 65        \n",
      "                                                                 \n",
      "=================================================================\n",
      "Total params: 256,830,721\n",
      "Trainable params: 32,897\n",
      "Non-trainable params: 256,797,824\n",
      "_________________________________________________________________\n"
     ]
    }
   ],
   "source": [
    "# Summary\n",
    "model_7.summary()"
   ]
  },
  {
   "cell_type": "code",
   "execution_count": 92,
   "id": "0a457b53",
   "metadata": {},
   "outputs": [
    {
     "name": "stdout",
     "output_type": "stream",
     "text": [
      "Epoch 1/5\n",
      "215/215 [==============================] - 6s 15ms/step - loss: 0.5085 - accuracy: 0.7796 - val_loss: 0.4477 - val_accuracy: 0.7979\n",
      "Epoch 2/5\n",
      "215/215 [==============================] - 2s 11ms/step - loss: 0.4152 - accuracy: 0.8137 - val_loss: 0.4360 - val_accuracy: 0.8150\n",
      "Epoch 3/5\n",
      "215/215 [==============================] - 2s 11ms/step - loss: 0.4002 - accuracy: 0.8221 - val_loss: 0.4314 - val_accuracy: 0.8123\n",
      "Epoch 4/5\n",
      "215/215 [==============================] - 2s 12ms/step - loss: 0.3927 - accuracy: 0.8254 - val_loss: 0.4270 - val_accuracy: 0.8176\n",
      "Epoch 5/5\n",
      "215/215 [==============================] - 2s 11ms/step - loss: 0.3863 - accuracy: 0.8279 - val_loss: 0.4286 - val_accuracy: 0.8163\n"
     ]
    }
   ],
   "source": [
    "model_7_history = model_7.fit(train_sentences_,\n",
    "                              train_labels,\n",
    "                              epochs=5,\n",
    "                              validation_data = (val_sentences,val_labels)\n",
    "                             )"
   ]
  },
  {
   "cell_type": "code",
   "execution_count": 93,
   "id": "156f42b5",
   "metadata": {},
   "outputs": [
    {
     "name": "stdout",
     "output_type": "stream",
     "text": [
      "24/24 [==============================] - 1s 9ms/step\n"
     ]
    },
    {
     "data": {
      "text/plain": [
       "array([[0.15830812],\n",
       "       [0.7337988 ],\n",
       "       [0.9873357 ],\n",
       "       [0.19435549],\n",
       "       [0.7378753 ],\n",
       "       [0.6853474 ],\n",
       "       [0.9798622 ],\n",
       "       [0.976368  ],\n",
       "       [0.92808354],\n",
       "       [0.09304346]], dtype=float32)"
      ]
     },
     "execution_count": 93,
     "metadata": {},
     "output_type": "execute_result"
    }
   ],
   "source": [
    "# Model_7 prediction Probability\n",
    "model_7_preds_prob = model_7.predict(val_sentences)\n",
    "model_7_preds_prob[:10]"
   ]
  },
  {
   "cell_type": "code",
   "execution_count": 94,
   "id": "16373f4e",
   "metadata": {},
   "outputs": [
    {
     "data": {
      "text/plain": [
       "<tf.Tensor: shape=(20,), dtype=float32, numpy=\n",
       "array([0., 1., 1., 0., 1., 1., 1., 1., 1., 0., 1., 0., 0., 1., 0., 0., 0.,\n",
       "       1., 0., 0.], dtype=float32)>"
      ]
     },
     "execution_count": 94,
     "metadata": {},
     "output_type": "execute_result"
    }
   ],
   "source": [
    "# Model_7 prediction\n",
    "model_7_preds = tf.squeeze(tf.round(model_7_preds_prob))\n",
    "model_7_preds[:20]"
   ]
  },
  {
   "cell_type": "code",
   "execution_count": 95,
   "id": "e3ba6ad9",
   "metadata": {},
   "outputs": [
    {
     "data": {
      "text/plain": [
       "{'Accuracy': 0.8162729658792651,\n",
       " 'Precision': 0.8187546712946793,\n",
       " 'Recall': 0.8162729658792651,\n",
       " 'F1_Score': 0.8147089025083661}"
      ]
     },
     "execution_count": 95,
     "metadata": {},
     "output_type": "execute_result"
    }
   ],
   "source": [
    "# Model_7_ resuts\n",
    "model_7_results = calculate_results(y_pred=model_7_preds,\n",
    "                                    y_true=val_labels\n",
    "                                   )\n",
    "model_7_results"
   ]
  },
  {
   "cell_type": "code",
   "execution_count": 96,
   "id": "7be44b24",
   "metadata": {},
   "outputs": [
    {
     "name": "stdout",
     "output_type": "stream",
     "text": [
      "Baseline: Accuracy: 0.79, New: Accuracy:0.82,Difference : 0.023622047244094557\n",
      "Baseline: Precision: 0.81, New: Precision:0.82,Difference : 0.007615670873362013\n",
      "Baseline: Recall: 0.79, New: Recall:0.82,Difference : 0.023622047244094557\n",
      "Baseline: F1_Score: 0.79, New: F1_Score:0.81,Difference : 0.028489926703411217\n"
     ]
    }
   ],
   "source": [
    "compare_baseline_to_new_model(baseline_results=baseline_results,\n",
    "                              model_new_result=model_7_results\n",
    "                             )"
   ]
  },
  {
   "cell_type": "markdown",
   "id": "315a71b9",
   "metadata": {},
   "source": [
    "## Comparing the performance of each of our models"
   ]
  },
  {
   "cell_type": "code",
   "execution_count": 97,
   "id": "6e75e9a3",
   "metadata": {},
   "outputs": [
    {
     "data": {
      "text/html": [
       "<div>\n",
       "<style scoped>\n",
       "    .dataframe tbody tr th:only-of-type {\n",
       "        vertical-align: middle;\n",
       "    }\n",
       "\n",
       "    .dataframe tbody tr th {\n",
       "        vertical-align: top;\n",
       "    }\n",
       "\n",
       "    .dataframe thead th {\n",
       "        text-align: right;\n",
       "    }\n",
       "</style>\n",
       "<table border=\"1\" class=\"dataframe\">\n",
       "  <thead>\n",
       "    <tr style=\"text-align: right;\">\n",
       "      <th></th>\n",
       "      <th>Accuracy</th>\n",
       "      <th>Precision</th>\n",
       "      <th>Recall</th>\n",
       "      <th>F1_Score</th>\n",
       "    </tr>\n",
       "  </thead>\n",
       "  <tbody>\n",
       "    <tr>\n",
       "      <th>Baseline</th>\n",
       "      <td>0.792651</td>\n",
       "      <td>0.811139</td>\n",
       "      <td>0.792651</td>\n",
       "      <td>0.786219</td>\n",
       "    </tr>\n",
       "    <tr>\n",
       "      <th>Simple_dense</th>\n",
       "      <td>0.804462</td>\n",
       "      <td>0.811375</td>\n",
       "      <td>0.804462</td>\n",
       "      <td>0.801367</td>\n",
       "    </tr>\n",
       "    <tr>\n",
       "      <th>LMST</th>\n",
       "      <td>0.804462</td>\n",
       "      <td>0.811375</td>\n",
       "      <td>0.804462</td>\n",
       "      <td>0.801367</td>\n",
       "    </tr>\n",
       "    <tr>\n",
       "      <th>GRU</th>\n",
       "      <td>0.775591</td>\n",
       "      <td>0.775986</td>\n",
       "      <td>0.775591</td>\n",
       "      <td>0.774306</td>\n",
       "    </tr>\n",
       "    <tr>\n",
       "      <th>Bidirectionall</th>\n",
       "      <td>0.748031</td>\n",
       "      <td>0.747624</td>\n",
       "      <td>0.748031</td>\n",
       "      <td>0.747698</td>\n",
       "    </tr>\n",
       "    <tr>\n",
       "      <th>CONV_1D</th>\n",
       "      <td>0.779528</td>\n",
       "      <td>0.785922</td>\n",
       "      <td>0.779528</td>\n",
       "      <td>0.775794</td>\n",
       "    </tr>\n",
       "    <tr>\n",
       "      <th>LSTM_AND_GRU</th>\n",
       "      <td>0.761155</td>\n",
       "      <td>0.761709</td>\n",
       "      <td>0.761155</td>\n",
       "      <td>0.759498</td>\n",
       "    </tr>\n",
       "    <tr>\n",
       "      <th>Tensorflow_hub_Model_USE</th>\n",
       "      <td>0.816273</td>\n",
       "      <td>0.818755</td>\n",
       "      <td>0.816273</td>\n",
       "      <td>0.814709</td>\n",
       "    </tr>\n",
       "  </tbody>\n",
       "</table>\n",
       "</div>"
      ],
      "text/plain": [
       "                          Accuracy  Precision    Recall  F1_Score\n",
       "Baseline                  0.792651   0.811139  0.792651  0.786219\n",
       "Simple_dense              0.804462   0.811375  0.804462  0.801367\n",
       "LMST                      0.804462   0.811375  0.804462  0.801367\n",
       "GRU                       0.775591   0.775986  0.775591  0.774306\n",
       "Bidirectionall            0.748031   0.747624  0.748031  0.747698\n",
       "CONV_1D                   0.779528   0.785922  0.779528  0.775794\n",
       "LSTM_AND_GRU              0.761155   0.761709  0.761155  0.759498\n",
       "Tensorflow_hub_Model_USE  0.816273   0.818755  0.816273  0.814709"
      ]
     },
     "execution_count": 97,
     "metadata": {},
     "output_type": "execute_result"
    }
   ],
   "source": [
    "# Combine All Results Using DataFrame\n",
    "all_Model_results = pd.DataFrame( { 'Baseline': baseline_results,\n",
    "                                    'Simple_dense': model_1_results,\n",
    "                                    'LMST': model_2_results,\n",
    "                                    'GRU': model_3_results,\n",
    "                                    'Bidirectionall': model_4_results,\n",
    "                                    'CONV_1D': model_5_results,\n",
    "                                    'LSTM_AND_GRU':model_6_results,\n",
    "                                    'Tensorflow_hub_Model_USE':model_7_results\n",
    "                                   })\n",
    "all_Model_results = all_Model_results.T\n",
    "all_Model_results"
   ]
  },
  {
   "cell_type": "code",
   "execution_count": 98,
   "id": "4002be09",
   "metadata": {},
   "outputs": [
    {
     "data": {
      "image/png": "[encoded data removed]",
      "text/plain": [
       "<Figure size 640x480 with 1 Axes>"
      ]
     },
     "metadata": {},
     "output_type": "display_data"
    }
   ],
   "source": [
    "# Plot and compare all of the model results\n",
    "all_Model_results.plot(kind='bar').legend(bbox_to_anchor=(1.0,1.0));"
   ]
  },
  {
   "cell_type": "code",
   "execution_count": 99,
   "id": "305b05ba",
   "metadata": {},
   "outputs": [
    {
     "data": {
      "image/png": "[encoded data removed]",
      "text/plain": [
       "<Figure size 640x480 with 1 Axes>"
      ]
     },
     "metadata": {},
     "output_type": "display_data"
    }
   ],
   "source": [
    "# Sort model results by f1-score\n",
    "all_Model_results.sort_values('F1_Score',ascending=False)['F1_Score'].plot(kind='bar').legend(bbox_to_anchor=(1.0,1.0));"
   ]
  },
  {
   "cell_type": "markdown",
   "id": "a88251d3",
   "metadata": {},
   "source": [
    "## Saving and loading a trained model"
   ]
  },
  {
   "cell_type": "code",
   "execution_count": 100,
   "id": "4f59b8b5",
   "metadata": {},
   "outputs": [
    {
     "name": "stderr",
     "output_type": "stream",
     "text": [
      "WARNING:absl:Function `_wrapped_model` contains input name(s) USE_input with unsupported characters which will be renamed to use_input in the SavedModel.\n",
      "WARNING:absl:Found untraced functions such as _update_step_xla while saving (showing 1 of 1). These functions will not be directly callable after loading.\n"
     ]
    },
    {
     "name": "stdout",
     "output_type": "stream",
     "text": [
      "INFO:tensorflow:Assets written to: Tensorflow_hub_Model_USE\\assets\n"
     ]
    },
    {
     "name": "stderr",
     "output_type": "stream",
     "text": [
      "INFO:tensorflow:Assets written to: Tensorflow_hub_Model_USE\\assets\n"
     ]
    }
   ],
   "source": [
    "# Save TF Hub Sentence Encoder model to SavedModel format (default)\n",
    "model_7.save('Tensorflow_hub_Model_USE')"
   ]
  },
  {
   "cell_type": "code",
   "execution_count": 101,
   "id": "11dff105",
   "metadata": {},
   "outputs": [],
   "source": [
    "# Load TF Hub Sentence Encoder SavedModel\n",
    "new_model = tf.keras.models.load_model('Tensorflow_hub_Model_USE')"
   ]
  },
  {
   "cell_type": "markdown",
   "id": "ce970f65",
   "metadata": {},
   "source": [
    "**Checking using Evaluate that Both the models are same**"
   ]
  },
  {
   "cell_type": "code",
   "execution_count": 102,
   "id": "cfb6e529",
   "metadata": {},
   "outputs": [
    {
     "name": "stdout",
     "output_type": "stream",
     "text": [
      "24/24 [==============================] - 1s 11ms/step - loss: 0.4286 - accuracy: 0.8163\n"
     ]
    },
    {
     "data": {
      "text/plain": [
       "[0.42860379815101624, 0.8162729740142822]"
      ]
     },
     "execution_count": 102,
     "metadata": {},
     "output_type": "execute_result"
    }
   ],
   "source": [
    "new_model.evaluate(val_sentences,val_labels)"
   ]
  },
  {
   "cell_type": "code",
   "execution_count": 103,
   "id": "51a1e550",
   "metadata": {},
   "outputs": [
    {
     "name": "stdout",
     "output_type": "stream",
     "text": [
      "24/24 [==============================] - 0s 10ms/step - loss: 0.4286 - accuracy: 0.8163\n"
     ]
    },
    {
     "data": {
      "text/plain": [
       "[0.42860379815101624, 0.8162729740142822]"
      ]
     },
     "execution_count": 103,
     "metadata": {},
     "output_type": "execute_result"
    }
   ],
   "source": [
    "model_7.evaluate(val_sentences,val_labels)"
   ]
  },
  {
   "cell_type": "markdown",
   "id": "d3fc1046",
   "metadata": {},
   "source": [
    "## Finding the most wrong examples\n",
    "\n",
    "We mentioned before that if many of our modelling experiments are returning similar results, despite using different kinds of models, it's a good idea to return to the data and inspect why this might be."
   ]
  },
  {
   "cell_type": "code",
   "execution_count": 104,
   "id": "83d84a43",
   "metadata": {},
   "outputs": [
    {
     "data": {
      "text/html": [
       "<div>\n",
       "<style scoped>\n",
       "    .dataframe tbody tr th:only-of-type {\n",
       "        vertical-align: middle;\n",
       "    }\n",
       "\n",
       "    .dataframe tbody tr th {\n",
       "        vertical-align: top;\n",
       "    }\n",
       "\n",
       "    .dataframe thead th {\n",
       "        text-align: right;\n",
       "    }\n",
       "</style>\n",
       "<table border=\"1\" class=\"dataframe\">\n",
       "  <thead>\n",
       "    <tr style=\"text-align: right;\">\n",
       "      <th></th>\n",
       "      <th>text</th>\n",
       "      <th>target</th>\n",
       "      <th>pred</th>\n",
       "      <th>pred_prob</th>\n",
       "    </tr>\n",
       "  </thead>\n",
       "  <tbody>\n",
       "    <tr>\n",
       "      <th>4955</th>\n",
       "      <td>DFR EP016 Monthly Meltdown - On Dnbheaven 2015...</td>\n",
       "      <td>0</td>\n",
       "      <td>0.0</td>\n",
       "      <td>0.158308</td>\n",
       "    </tr>\n",
       "    <tr>\n",
       "      <th>584</th>\n",
       "      <td>FedEx no longer to transport bioterror germs i...</td>\n",
       "      <td>0</td>\n",
       "      <td>1.0</td>\n",
       "      <td>0.733799</td>\n",
       "    </tr>\n",
       "    <tr>\n",
       "      <th>7411</th>\n",
       "      <td>Gunmen kill four in El Salvador bus attack: Su...</td>\n",
       "      <td>1</td>\n",
       "      <td>1.0</td>\n",
       "      <td>0.987336</td>\n",
       "    </tr>\n",
       "    <tr>\n",
       "      <th>5950</th>\n",
       "      <td>@camilacabello97 Internally and externally scr...</td>\n",
       "      <td>1</td>\n",
       "      <td>0.0</td>\n",
       "      <td>0.194355</td>\n",
       "    </tr>\n",
       "    <tr>\n",
       "      <th>5541</th>\n",
       "      <td>Radiation emergency #preparedness starts with ...</td>\n",
       "      <td>1</td>\n",
       "      <td>0.0</td>\n",
       "      <td>0.737875</td>\n",
       "    </tr>\n",
       "  </tbody>\n",
       "</table>\n",
       "</div>"
      ],
      "text/plain": [
       "                                                   text  target  pred  \\\n",
       "4955  DFR EP016 Monthly Meltdown - On Dnbheaven 2015...       0   0.0   \n",
       "584   FedEx no longer to transport bioterror germs i...       0   1.0   \n",
       "7411  Gunmen kill four in El Salvador bus attack: Su...       1   1.0   \n",
       "5950  @camilacabello97 Internally and externally scr...       1   0.0   \n",
       "5541  Radiation emergency #preparedness starts with ...       1   0.0   \n",
       "\n",
       "      pred_prob  \n",
       "4955   0.158308  \n",
       "584    0.733799  \n",
       "7411   0.987336  \n",
       "5950   0.194355  \n",
       "5541   0.737875  "
      ]
     },
     "execution_count": 104,
     "metadata": {},
     "output_type": "execute_result"
    }
   ],
   "source": [
    "# Create dataframe with validation sentences and best performing model predictions\n",
    "val_df = pd.DataFrame({\"text\": val_sentences,\n",
    "                       \"target\": val_labels,\n",
    "                       \"pred\": model_2_preds,\n",
    "                       \"pred_prob\": tf.squeeze(model_7_preds_prob)})\n",
    "val_df.head()"
   ]
  },
  {
   "cell_type": "code",
   "execution_count": 105,
   "id": "38f96bff",
   "metadata": {},
   "outputs": [
    {
     "data": {
      "text/html": [
       "<div>\n",
       "<style scoped>\n",
       "    .dataframe tbody tr th:only-of-type {\n",
       "        vertical-align: middle;\n",
       "    }\n",
       "\n",
       "    .dataframe tbody tr th {\n",
       "        vertical-align: top;\n",
       "    }\n",
       "\n",
       "    .dataframe thead th {\n",
       "        text-align: right;\n",
       "    }\n",
       "</style>\n",
       "<table border=\"1\" class=\"dataframe\">\n",
       "  <thead>\n",
       "    <tr style=\"text-align: right;\">\n",
       "      <th></th>\n",
       "      <th>text</th>\n",
       "      <th>target</th>\n",
       "      <th>pred</th>\n",
       "      <th>pred_prob</th>\n",
       "    </tr>\n",
       "  </thead>\n",
       "  <tbody>\n",
       "    <tr>\n",
       "      <th>2442</th>\n",
       "      <td>Death on Railway track: Why rains cannot take ...</td>\n",
       "      <td>1</td>\n",
       "      <td>0.0</td>\n",
       "      <td>0.963549</td>\n",
       "    </tr>\n",
       "    <tr>\n",
       "      <th>6041</th>\n",
       "      <td>Panoramic Resources cuts jobs after seismic ev...</td>\n",
       "      <td>1</td>\n",
       "      <td>0.0</td>\n",
       "      <td>0.954884</td>\n",
       "    </tr>\n",
       "    <tr>\n",
       "      <th>6019</th>\n",
       "      <td>SEISMIC RISK: a COMPARISON between 2 case stud...</td>\n",
       "      <td>1</td>\n",
       "      <td>0.0</td>\n",
       "      <td>0.922516</td>\n",
       "    </tr>\n",
       "    <tr>\n",
       "      <th>578</th>\n",
       "      <td>FedEx will no longer transport bioterror patho...</td>\n",
       "      <td>0</td>\n",
       "      <td>1.0</td>\n",
       "      <td>0.855777</td>\n",
       "    </tr>\n",
       "    <tr>\n",
       "      <th>4821</th>\n",
       "      <td>@noah_anyname That's where the concentration c...</td>\n",
       "      <td>0</td>\n",
       "      <td>1.0</td>\n",
       "      <td>0.854815</td>\n",
       "    </tr>\n",
       "    <tr>\n",
       "      <th>...</th>\n",
       "      <td>...</td>\n",
       "      <td>...</td>\n",
       "      <td>...</td>\n",
       "      <td>...</td>\n",
       "    </tr>\n",
       "    <tr>\n",
       "      <th>6221</th>\n",
       "      <td>I get to smoke my shit in peace</td>\n",
       "      <td>1</td>\n",
       "      <td>0.0</td>\n",
       "      <td>0.047074</td>\n",
       "    </tr>\n",
       "    <tr>\n",
       "      <th>5464</th>\n",
       "      <td>Reddit Will Now QuarantineÛ_ http://t.co/pkUA...</td>\n",
       "      <td>1</td>\n",
       "      <td>0.0</td>\n",
       "      <td>0.043877</td>\n",
       "    </tr>\n",
       "    <tr>\n",
       "      <th>2250</th>\n",
       "      <td>Why are you deluged with low self-image? Take ...</td>\n",
       "      <td>1</td>\n",
       "      <td>0.0</td>\n",
       "      <td>0.040745</td>\n",
       "    </tr>\n",
       "    <tr>\n",
       "      <th>1861</th>\n",
       "      <td>Ron &amp;amp; Fez - Dave's High School Crush https...</td>\n",
       "      <td>1</td>\n",
       "      <td>0.0</td>\n",
       "      <td>0.037031</td>\n",
       "    </tr>\n",
       "    <tr>\n",
       "      <th>6160</th>\n",
       "      <td>@SoonerMagic_ I mean I'm a fan but I don't nee...</td>\n",
       "      <td>1</td>\n",
       "      <td>0.0</td>\n",
       "      <td>0.035710</td>\n",
       "    </tr>\n",
       "  </tbody>\n",
       "</table>\n",
       "<p>149 rows × 4 columns</p>\n",
       "</div>"
      ],
      "text/plain": [
       "                                                   text  target  pred  \\\n",
       "2442  Death on Railway track: Why rains cannot take ...       1   0.0   \n",
       "6041  Panoramic Resources cuts jobs after seismic ev...       1   0.0   \n",
       "6019  SEISMIC RISK: a COMPARISON between 2 case stud...       1   0.0   \n",
       "578   FedEx will no longer transport bioterror patho...       0   1.0   \n",
       "4821  @noah_anyname That's where the concentration c...       0   1.0   \n",
       "...                                                 ...     ...   ...   \n",
       "6221                    I get to smoke my shit in peace       1   0.0   \n",
       "5464  Reddit Will Now QuarantineÛ_ http://t.co/pkUA...       1   0.0   \n",
       "2250  Why are you deluged with low self-image? Take ...       1   0.0   \n",
       "1861  Ron &amp; Fez - Dave's High School Crush https...       1   0.0   \n",
       "6160  @SoonerMagic_ I mean I'm a fan but I don't nee...       1   0.0   \n",
       "\n",
       "      pred_prob  \n",
       "2442   0.963549  \n",
       "6041   0.954884  \n",
       "6019   0.922516  \n",
       "578    0.855777  \n",
       "4821   0.854815  \n",
       "...         ...  \n",
       "6221   0.047074  \n",
       "5464   0.043877  \n",
       "2250   0.040745  \n",
       "1861   0.037031  \n",
       "6160   0.035710  \n",
       "\n",
       "[149 rows x 4 columns]"
      ]
     },
     "execution_count": 105,
     "metadata": {},
     "output_type": "execute_result"
    }
   ],
   "source": [
    "Val_df_most_wrong = val_df[val_df['target']!=val_df['pred']].sort_values('pred_prob',ascending=False)\n",
    "Val_df_most_wrong"
   ]
  },
  {
   "cell_type": "code",
   "execution_count": 106,
   "id": "2fae82c8",
   "metadata": {},
   "outputs": [
    {
     "name": "stdout",
     "output_type": "stream",
     "text": [
      "Target: 1, Pred: 0, Prob: 0.06252184510231018\n",
      "Text:\n",
      "VICTORINOX SWISS ARMY DATE WOMEN'S RUBBER MOP WATCH 241487 http://t.co/yFy3nkkcoH http://t.co/KNEhVvOHVK\n",
      "\n",
      "----\n",
      "\n",
      "Target: 1, Pred: 0, Prob: 0.05903308093547821\n",
      "Text:\n",
      "going to redo my nails and watch behind the scenes of desolation of smaug ayyy\n",
      "\n",
      "----\n",
      "\n",
      "Target: 1, Pred: 0, Prob: 0.05679506063461304\n",
      "Text:\n",
      "Lucas Duda is Ghost Rider. Not the Nic Cage version but an actual 'engulfed in flames' badass. #Mets\n",
      "\n",
      "----\n",
      "\n",
      "Target: 1, Pred: 0, Prob: 0.052146121859550476\n",
      "Text:\n",
      "@willienelson We need help! Horses will die!Please RT &amp; sign petition!Take a stand &amp; be a voice for them! #gilbert23 https://t.co/e8dl1lNCVu\n",
      "\n",
      "----\n",
      "\n",
      "Target: 1, Pred: 0, Prob: 0.05113353207707405\n",
      "Text:\n",
      "You can never escape me. Bullets don't harm me. Nothing harms me. But I know pain. I know pain. Sometimes I share it. With someone like you.\n",
      "\n",
      "----\n",
      "\n",
      "Target: 1, Pred: 0, Prob: 0.04707353562116623\n",
      "Text:\n",
      "I get to smoke my shit in peace\n",
      "\n",
      "----\n",
      "\n",
      "Target: 1, Pred: 0, Prob: 0.04387656971812248\n",
      "Text:\n",
      "Reddit Will Now QuarantineÛ_ http://t.co/pkUAMXw6pm #onlinecommunities #reddit #amageddon #freespeech #Business http://t.co/PAWvNJ4sAP\n",
      "\n",
      "----\n",
      "\n",
      "Target: 1, Pred: 0, Prob: 0.04074548929929733\n",
      "Text:\n",
      "Why are you deluged with low self-image? Take the quiz: http://t.co/XsPqdOrIqj http://t.co/CQYvFR4UCy\n",
      "\n",
      "----\n",
      "\n",
      "Target: 1, Pred: 0, Prob: 0.03703145310282707\n",
      "Text:\n",
      "Ron &amp; Fez - Dave's High School Crush https://t.co/aN3W16c8F6 via @YouTube\n",
      "\n",
      "----\n",
      "\n",
      "Target: 1, Pred: 0, Prob: 0.035710178315639496\n",
      "Text:\n",
      "@SoonerMagic_ I mean I'm a fan but I don't need a girl sounding off like a damn siren\n",
      "\n",
      "----\n",
      "\n"
     ]
    }
   ],
   "source": [
    "# Check the most wrong false negatives (model predicted 0 when should've predict 1)\n",
    "for row in Val_df_most_wrong[-10:].itertuples():\n",
    "  _, text, target, pred, prob = row\n",
    "  print(f\"Target: {target}, Pred: {int(pred)}, Prob: {prob}\")\n",
    "  print(f\"Text:\\n{text}\\n\")\n",
    "  print(\"----\\n\")"
   ]
  },
  {
   "cell_type": "markdown",
   "id": "9ee1aa1b",
   "metadata": {},
   "source": [
    "## Making predictions on the test dataset\n",
    "\n",
    "We do not have labels for the test dataset so we are going to make some predictions and inspect them for ourselves.\n",
    "\n",
    "Let's write some code to make predictions on random samples from the test dataset and visualize them."
   ]
  },
  {
   "cell_type": "code",
   "execution_count": 107,
   "id": "ac0478b0",
   "metadata": {},
   "outputs": [
    {
     "data": {
      "text/html": [
       "<div>\n",
       "<style scoped>\n",
       "    .dataframe tbody tr th:only-of-type {\n",
       "        vertical-align: middle;\n",
       "    }\n",
       "\n",
       "    .dataframe tbody tr th {\n",
       "        vertical-align: top;\n",
       "    }\n",
       "\n",
       "    .dataframe thead th {\n",
       "        text-align: right;\n",
       "    }\n",
       "</style>\n",
       "<table border=\"1\" class=\"dataframe\">\n",
       "  <thead>\n",
       "    <tr style=\"text-align: right;\">\n",
       "      <th></th>\n",
       "      <th>id</th>\n",
       "      <th>keyword</th>\n",
       "      <th>location</th>\n",
       "      <th>text</th>\n",
       "    </tr>\n",
       "  </thead>\n",
       "  <tbody>\n",
       "    <tr>\n",
       "      <th>0</th>\n",
       "      <td>0</td>\n",
       "      <td>NaN</td>\n",
       "      <td>NaN</td>\n",
       "      <td>Just happened a terrible car crash</td>\n",
       "    </tr>\n",
       "    <tr>\n",
       "      <th>1</th>\n",
       "      <td>2</td>\n",
       "      <td>NaN</td>\n",
       "      <td>NaN</td>\n",
       "      <td>Heard about #earthquake is different cities, s...</td>\n",
       "    </tr>\n",
       "    <tr>\n",
       "      <th>2</th>\n",
       "      <td>3</td>\n",
       "      <td>NaN</td>\n",
       "      <td>NaN</td>\n",
       "      <td>there is a forest fire at spot pond, geese are...</td>\n",
       "    </tr>\n",
       "    <tr>\n",
       "      <th>3</th>\n",
       "      <td>9</td>\n",
       "      <td>NaN</td>\n",
       "      <td>NaN</td>\n",
       "      <td>Apocalypse lighting. #Spokane #wildfires</td>\n",
       "    </tr>\n",
       "    <tr>\n",
       "      <th>4</th>\n",
       "      <td>11</td>\n",
       "      <td>NaN</td>\n",
       "      <td>NaN</td>\n",
       "      <td>Typhoon Soudelor kills 28 in China and Taiwan</td>\n",
       "    </tr>\n",
       "  </tbody>\n",
       "</table>\n",
       "</div>"
      ],
      "text/plain": [
       "   id keyword location                                               text\n",
       "0   0     NaN      NaN                 Just happened a terrible car crash\n",
       "1   2     NaN      NaN  Heard about #earthquake is different cities, s...\n",
       "2   3     NaN      NaN  there is a forest fire at spot pond, geese are...\n",
       "3   9     NaN      NaN           Apocalypse lighting. #Spokane #wildfires\n",
       "4  11     NaN      NaN      Typhoon Soudelor kills 28 in China and Taiwan"
      ]
     },
     "execution_count": 107,
     "metadata": {},
     "output_type": "execute_result"
    }
   ],
   "source": [
    "test_data.head()"
   ]
  },
  {
   "cell_type": "code",
   "execution_count": 108,
   "id": "21a526aa",
   "metadata": {},
   "outputs": [
    {
     "name": "stdout",
     "output_type": "stream",
     "text": [
      "1/1 [==============================] - 1s 717ms/step\n",
      "\n",
      "\n",
      "Prediction : 0.0, Prediction Probability : 0.05541255697607994\n",
      "\n",
      "\n",
      " Text : What they (dentists) don't tell u is how much ur mouth will be in pain when the numbing wears off because of the puncture wounds in ur gums.\n",
      "\n",
      "\n",
      "---\n",
      "1/1 [==============================] - 0s 65ms/step\n",
      "\n",
      "\n",
      "Prediction : 0.0, Prediction Probability : 0.06997758150100708\n",
      "\n",
      "\n",
      " Text : @Robot_Rainstorm I'm interested.  Is it through Yahoo?\n",
      "\n",
      "\n",
      "---\n",
      "1/1 [==============================] - 0s 57ms/step\n",
      "\n",
      "\n",
      "Prediction : 0.0, Prediction Probability : 0.07829422503709793\n",
      "\n",
      "\n",
      " Text : Is this the real life? Is this just fantasy? Caught in a landslide. No escape from reality.\n",
      "\n",
      "\n",
      "---\n",
      "1/1 [==============================] - 0s 77ms/step\n",
      "\n",
      "\n",
      "Prediction : 0.0, Prediction Probability : 0.19689695537090302\n",
      "\n",
      "\n",
      " Text : georgegallagher: RT WNBA: Stars coach Dan Hughes taken off court on stretcher after collision with Danielle RobinÛ_ http://t.co/wz4xVZYqJd\n",
      "\n",
      "\n",
      "---\n",
      "1/1 [==============================] - 0s 76ms/step\n",
      "\n",
      "\n",
      "Prediction : 0.0, Prediction Probability : 0.22107069194316864\n",
      "\n",
      "\n",
      " Text : I didn't even know pens still exploded like that...ink everywhere\n",
      "\n",
      "\n",
      "---\n",
      "1/1 [==============================] - 0s 59ms/step\n",
      "\n",
      "\n",
      "Prediction : 1.0, Prediction Probability : 0.7541329264640808\n",
      "\n",
      "\n",
      " Text : one of them wild fires in cali or something or in the mid west or where ever they show up..shit dont pop up around me\n",
      "\n",
      "\n",
      "---\n",
      "1/1 [==============================] - 0s 85ms/step\n",
      "\n",
      "\n",
      "Prediction : 1.0, Prediction Probability : 0.7984890341758728\n",
      "\n",
      "\n",
      " Text : Sooooo shooting up movie theaters the new mass murderer wave??\n",
      "\n",
      "\n",
      "---\n",
      "1/1 [==============================] - 0s 58ms/step\n",
      "\n",
      "\n",
      "Prediction : 1.0, Prediction Probability : 0.9534867405891418\n",
      "\n",
      "\n",
      " Text : Multiple houses/buildings on fire in Kalispell http://t.co/1iyThVshgF\n",
      "\n",
      "\n",
      "---\n",
      "1/1 [==============================] - 0s 40ms/step\n",
      "\n",
      "\n",
      "Prediction : 1.0, Prediction Probability : 0.8294875621795654\n",
      "\n",
      "\n",
      " Text : OH SHIT DUST'S STORM ATTACK AND FIDGET'S BULLET THING MADE SOME CRAZY RICOCHET ATTACK\n",
      "\n",
      "\n",
      "---\n",
      "1/1 [==============================] - 0s 74ms/step\n",
      "\n",
      "\n",
      "Prediction : 1.0, Prediction Probability : 0.9353755116462708\n",
      "\n",
      "\n",
      " Text : 11-Year-Old Boy Charged With Manslaughter of Toddler: Report: An 11-year-old boy has been charged with manslaughter over the fatal sh...\n",
      "\n",
      "\n",
      "---\n"
     ]
    }
   ],
   "source": [
    "import random\n",
    "\n",
    "# Making Prediction on test Data\n",
    "test_sentences = test_data['text'].to_list()\n",
    "random_sentences = random.sample(test_sentences,10)\n",
    "for test_sample in random_sentences:\n",
    "    preds_prob = tf.squeeze(model_7.predict([test_sample]))\n",
    "    preds = tf.round(preds_prob)\n",
    "    print(f\"\\n\\nPrediction : {preds}, Prediction Probability : {preds_prob}\")\n",
    "    print(f\"\\n\\n Text : {test_sample}\\n\\n\")\n",
    "    print(\"---\")\n"
   ]
  },
  {
   "cell_type": "markdown",
   "id": "9b3891d9",
   "metadata": {},
   "source": [
    "How do our model's predictions look on the test dataset?\n",
    "\n",
    "It's important to do these kind of visualization checks as often as possible to get a glance of how your model performs on unseen data and subsequently how it might perform on the real test: Tweets from the wild."
   ]
  },
  {
   "cell_type": "markdown",
   "id": "6d5ae641",
   "metadata": {},
   "source": [
    "## Predicting on Tweets"
   ]
  },
  {
   "cell_type": "code",
   "execution_count": 109,
   "id": "63467ebe",
   "metadata": {},
   "outputs": [],
   "source": [
    "# Turn Tweet into string\n",
    "tweet = \"take the best choices from others and make your own\""
   ]
  },
  {
   "cell_type": "code",
   "execution_count": 110,
   "id": "bf32ee96",
   "metadata": {},
   "outputs": [],
   "source": [
    "def predict_on_sentence(model, sentence):\n",
    "  \"\"\"\n",
    "  Uses model to make a prediction on sentence.\n",
    "\n",
    "  Returns the sentence, the predicted label and the prediction probability.\n",
    "  \"\"\"\n",
    "  pred_prob = model.predict(pd.DataFrame([sentence]))\n",
    "  pred_label = tf.squeeze(tf.round(pred_prob)).numpy()\n",
    "  print(f\"Pred: {pred_label}\", \"(real disaster)\" if pred_label > 0 else \"(not real disaster)\", f\"Prob: {pred_prob[0][0]}\")\n",
    "  print(f\"Text:\\n{sentence}\")"
   ]
  },
  {
   "cell_type": "code",
   "execution_count": 111,
   "id": "2d80ef4d",
   "metadata": {},
   "outputs": [
    {
     "name": "stdout",
     "output_type": "stream",
     "text": [
      "1/1 [==============================] - 0s 70ms/step\n",
      "Pred: 0.0 (not real disaster) Prob: 0.11195430904626846\n",
      "Text:\n",
      "take the best choices from others and make your own\n"
     ]
    }
   ],
   "source": [
    "# Make a prediction on Tweet from the wild\n",
    "predict_on_sentence(model=model_1, # use the USE model\n",
    "                    sentence=tweet)"
   ]
  },
  {
   "cell_type": "code",
   "execution_count": 112,
   "id": "14ab4937",
   "metadata": {},
   "outputs": [
    {
     "name": "stdout",
     "output_type": "stream",
     "text": [
      "1/1 [==============================] - 0s 233ms/step\n",
      "Pred: 0.0 (not real disaster) Prob: 0.004389057867228985\n",
      "Text:\n",
      "take the best choices from others and make your own\n"
     ]
    }
   ],
   "source": [
    "# Make a prediction on Tweet from the wild\n",
    "predict_on_sentence(model=model_2, # use the USE model\n",
    "                    sentence=tweet)"
   ]
  },
  {
   "cell_type": "code",
   "execution_count": 113,
   "id": "99f443a9",
   "metadata": {},
   "outputs": [
    {
     "name": "stdout",
     "output_type": "stream",
     "text": [
      "1/1 [==============================] - 0s 277ms/step\n",
      "Pred: 0.0 (not real disaster) Prob: 0.01980040967464447\n",
      "Text:\n",
      "take the best choices from others and make your own\n"
     ]
    }
   ],
   "source": [
    "# Make a prediction on Tweet from the wild\n",
    "predict_on_sentence(model=model_3, # use the USE model\n",
    "                    sentence=tweet)"
   ]
  },
  {
   "cell_type": "code",
   "execution_count": 114,
   "id": "c5b15f1e",
   "metadata": {},
   "outputs": [
    {
     "name": "stdout",
     "output_type": "stream",
     "text": [
      "1/1 [==============================] - 0s 341ms/step\n",
      "Pred: 0.0 (not real disaster) Prob: 0.06521549075841904\n",
      "Text:\n",
      "take the best choices from others and make your own\n"
     ]
    }
   ],
   "source": [
    "# Make a prediction on Tweet from the wild\n",
    "predict_on_sentence(model=model_4, # use the USE model\n",
    "                    sentence=tweet)"
   ]
  },
  {
   "cell_type": "code",
   "execution_count": 115,
   "id": "60c58739",
   "metadata": {},
   "outputs": [
    {
     "name": "stdout",
     "output_type": "stream",
     "text": [
      "1/1 [==============================] - 0s 56ms/step\n",
      "Pred: 0.0 (not real disaster) Prob: 0.01575511321425438\n",
      "Text:\n",
      "take the best choices from others and make your own\n"
     ]
    }
   ],
   "source": [
    "# Make a prediction on Tweet from the wild\n",
    "predict_on_sentence(model=model_5, # use the USE model\n",
    "                    sentence=tweet)"
   ]
  },
  {
   "cell_type": "code",
   "execution_count": 116,
   "id": "0ad31719",
   "metadata": {},
   "outputs": [
    {
     "name": "stdout",
     "output_type": "stream",
     "text": [
      "1/1 [==============================] - 0s 433ms/step\n",
      "Pred: 0.0 (not real disaster) Prob: 0.0024983875919133425\n",
      "Text:\n",
      "take the best choices from others and make your own\n"
     ]
    }
   ],
   "source": [
    "# Make a prediction on Tweet from the wild\n",
    "predict_on_sentence(model=model_6, # use the USE model\n",
    "                    sentence=tweet)"
   ]
  },
  {
   "cell_type": "code",
   "execution_count": 117,
   "id": "5f90238e",
   "metadata": {},
   "outputs": [
    {
     "name": "stdout",
     "output_type": "stream",
     "text": [
      "1/1 [==============================] - 0s 44ms/step\n",
      "Pred: 0.0 (not real disaster) Prob: 0.07797784358263016\n",
      "Text:\n",
      "take the best choices from others and make your own\n"
     ]
    }
   ],
   "source": [
    "# Make a prediction on Tweet from the wild\n",
    "predict_on_sentence(model=model_7, # use the USE model\n",
    "                    sentence=tweet)"
   ]
  },
  {
   "cell_type": "markdown",
   "id": "0536ee6f",
   "metadata": {},
   "source": [
    "** *The End*  **\n",
    "---------------------"
   ]
  },
  {
   "cell_type": "markdown",
   "id": "a371d5af",
   "metadata": {},
   "source": [
    "--------------------"
   ]
  }
 ],
 "metadata": {
  "kernelspec": {
   "display_name": "Python 3 (ipykernel)",
   "language": "python",
   "name": "python3"
  },
  "language_info": {
   "codemirror_mode": {
    "name": "ipython",
    "version": 3
   },
   "file_extension": ".py",
   "mimetype": "text/x-python",
   "name": "python",
   "nbconvert_exporter": "python",
   "pygments_lexer": "ipython3",
   "version": "3.9.15"
  }
 },
 "nbformat": 4,
 "nbformat_minor": 5
}
